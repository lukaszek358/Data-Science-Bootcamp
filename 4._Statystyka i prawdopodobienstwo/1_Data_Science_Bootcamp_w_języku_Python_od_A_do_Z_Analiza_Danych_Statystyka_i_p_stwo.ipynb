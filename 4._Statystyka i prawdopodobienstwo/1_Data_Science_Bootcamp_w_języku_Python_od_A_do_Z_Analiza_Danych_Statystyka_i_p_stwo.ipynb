{
  "nbformat": 4,
  "nbformat_minor": 0,
  "metadata": {
    "colab": {
      "provenance": [],
      "toc_visible": true,
      "authorship_tag": "ABX9TyOv0Ym5Wb4mlYdQWq6SgYOa",
      "include_colab_link": true
    },
    "kernelspec": {
      "name": "python3",
      "display_name": "Python 3"
    },
    "language_info": {
      "name": "python"
    }
  },
  "cells": [
    {
      "cell_type": "markdown",
      "metadata": {
        "id": "view-in-github",
        "colab_type": "text"
      },
      "source": [
        "<a href=\"https://colab.research.google.com/github/lukaszek358/Data-Science-Bootcamp/blob/main/4._Statystyka%20i%20prawdopodobienstwo/1_Data_Science_Bootcamp_w_j%C4%99zyku_Python_od_A_do_Z_Analiza_Danych_Statystyka_i_p_stwo.ipynb\" target=\"_parent\"><img src=\"https://colab.research.google.com/assets/colab-badge.svg\" alt=\"Open In Colab\"/></a>"
      ]
    },
    {
      "cell_type": "markdown",
      "source": [
        "# Rachunek Prawdopodobieństwa i Statystyka"
      ],
      "metadata": {
        "id": "ieYXWc7wAhgk"
      }
    },
    {
      "cell_type": "markdown",
      "source": [
        "### Lekkie wprowadzenie\n",
        "\n",
        "Rozważmy populację składającą się dokładnie z $n$ elementów. Oznaczmy przez $X$ badaną cechę populacji oraz przez $x_1, \\dots, x_n$ wartości cechy $X$. Cechę $X$ nazwyać będziemy zmienną losową.\n",
        "\n",
        "---\n",
        "**Przykład - dane dyskretne**  \n",
        "Populacja - grupa studentów (5 osób)  \n",
        "Badana cecha $X$- ocena z egzaminu  \n",
        "Realizacja zmiennej: 3, 4.5, 5, 4.5, 3  "
      ],
      "metadata": {
        "id": "B8FUM4E9B6G7"
      }
    },
    {
      "cell_type": "code",
      "execution_count": null,
      "metadata": {
        "id": "0LcRYnm0AYCw"
      },
      "outputs": [],
      "source": [
        "import numpy as np"
      ]
    },
    {
      "cell_type": "code",
      "source": [
        "X = np.array([3, 4.5, 5, 4.5, 3])\n",
        "print(X)"
      ],
      "metadata": {
        "colab": {
          "base_uri": "https://localhost:8080/"
        },
        "id": "Tqh-F2lpCV1p",
        "outputId": "f2b8a0aa-21f3-415a-ab62-42fff67d3d43"
      },
      "execution_count": null,
      "outputs": [
        {
          "output_type": "stream",
          "name": "stdout",
          "text": [
            "[3.  4.5 5.  4.5 3. ]\n"
          ]
        }
      ]
    },
    {
      "cell_type": "markdown",
      "source": [
        "  **Przykład - dane ciągłe**  \n",
        "Populacja - grupa studentów (5 osób)  \n",
        "Badana cecha $X$- wzrost studenta  \n",
        "Realizacja zmiennej: 185.0, 179.5, 168.0, 192.0, 185.5 "
      ],
      "metadata": {
        "id": "t2oJtj2pCzjr"
      }
    },
    {
      "cell_type": "code",
      "source": [
        "X = np.array([185.0, 179.5, 168.0, 192.0, 185.5])\n",
        "print(X)"
      ],
      "metadata": {
        "colab": {
          "base_uri": "https://localhost:8080/"
        },
        "id": "WRjh2CMPC0AT",
        "outputId": "b982aeeb-cca2-48a4-b394-75bec3210702"
      },
      "execution_count": null,
      "outputs": [
        {
          "output_type": "stream",
          "name": "stdout",
          "text": [
            "[185.  179.5 168.  192.  185.5]\n"
          ]
        }
      ]
    },
    {
      "cell_type": "markdown",
      "metadata": {
        "id": "hzqfFxaQ1SK2"
      },
      "source": [
        "### <a name='2'></a> Statystyka opisowa - miary tendencji centralnej\n",
        "\n",
        "**DEFINICJA 1.**\n",
        "Średnią arytmetyczną ciągu wartości $x_1, \\dots, x_n$ nazwyamy:\n",
        "$$\\bar{x}= \\frac{x_{1} + x_{2} + \\ \\ldots \\ + x_{n}}{n} = \\frac{1}{n} \\sum_{i=1}^{n} x_{i}$$  \n",
        "\n",
        "**PRZYKŁAD 2.**\n",
        "Rozważmy ciąg: $3, 4.5, 5, 4.5, 3$\n",
        "$$\\bar{x}=\\frac{3 + 4.5 + 5 + 4.5 + 3}{5} = 4.0$$"
      ]
    },
    {
      "cell_type": "code",
      "source": [
        "X = np.array([3, 4.5, 5, 4.5, 3])\n",
        "X.mean()"
      ],
      "metadata": {
        "colab": {
          "base_uri": "https://localhost:8080/"
        },
        "id": "e-mfGjTbD62G",
        "outputId": "1e60d0dd-22f5-4f35-8e5a-a33dca16806d"
      },
      "execution_count": null,
      "outputs": [
        {
          "output_type": "execute_result",
          "data": {
            "text/plain": [
              "4.0"
            ]
          },
          "metadata": {},
          "execution_count": 4
        }
      ]
    },
    {
      "cell_type": "markdown",
      "metadata": {
        "id": "aViNE-zA1zPl"
      },
      "source": [
        "**DEFINICJA 3.**\n",
        "Medianą ciągu wartości $x_1, \\dots, x_n$ nazywamy środkowy wyraz tego ciągu, gdy $n$ jest liczbą nieparzystą, w przeciwnym przypadku średnią arytmetyczną dwóch wyrazów środkowych.\n",
        "\n",
        "$Mediana = Me = \\left\\{\\begin{array} {lll} x_{(k+1)} &  \\hbox{ dla } & n=2k+1 \\\\[1mm] \\frac{x_{(k)}+x_{(k+1)}}{2} & \\hbox{ dla } & n=2k. \\end{array} \\right.$,\n",
        "gdzie $x_{(1)} \\le x_{(2)} \\le  \\dots \\le x_{(n)}.$  \n",
        "\n",
        "**PRZYKŁAD 4.**\n",
        "Rozważmy ciąg: $3, 4.5, 5, 4.5, 3$  \n",
        "Porządkujemy ciąg: $3, 3, 4.5, 4.5, 5$  \n",
        "Ponieważ liczba elementów (=5) jest liczbą nieparzystą wybieramy środkowy wyraz tego ciągu czyli:\n",
        "$$Mediana = 4.5$$"
      ]
    },
    {
      "cell_type": "code",
      "source": [
        "np.median(X)"
      ],
      "metadata": {
        "colab": {
          "base_uri": "https://localhost:8080/"
        },
        "id": "IIMxtRMqED1q",
        "outputId": "2712cc06-1bdf-483e-c35d-30d76334344e"
      },
      "execution_count": null,
      "outputs": [
        {
          "output_type": "execute_result",
          "data": {
            "text/plain": [
              "4.5"
            ]
          },
          "metadata": {},
          "execution_count": 5
        }
      ]
    },
    {
      "cell_type": "markdown",
      "metadata": {
        "id": "tp2s7xPs2r_I"
      },
      "source": [
        "**PRZYKŁAD 5.** \n",
        "Rozważmy ciąg: $5, 4.5, 3, 5$  \n",
        "Porządkujemy ciąg: $3, 4.5, 5, 5$  \n",
        "Ponieważ liczba elementów (=4) jest liczbą parzystą obliczamy średnią arytmetyczną wyrazów środkowych:\n",
        "$$Mediana = \\frac{4.5 + 5}{2} = 4.75$$\n",
        "\n",
        "**DEFINICJA 6.**\n",
        "Moda (wartość modalna) to najczęściej występująca wartość w ciągu.\n",
        "\n",
        "**PRZYKŁAD 7.**\n",
        "Rozważmy ciąg: $3, 4.5, 5, 4.5, 2$\n",
        "$$Moda = 4.5$$ \n"
      ]
    },
    {
      "cell_type": "code",
      "source": [
        "X = np.array([5,4.5,3,5])\n",
        "print(f'Mediana: {np.median(X)}')"
      ],
      "metadata": {
        "colab": {
          "base_uri": "https://localhost:8080/"
        },
        "id": "n191tijbElJd",
        "outputId": "f1e64d27-9669-4a97-e668-d41e41af3458"
      },
      "execution_count": null,
      "outputs": [
        {
          "output_type": "stream",
          "name": "stdout",
          "text": [
            "Mediana: 4.75\n"
          ]
        }
      ]
    },
    {
      "cell_type": "code",
      "source": [
        "import statistics as st\n",
        "X = np.array([3,4.5,5,4.5,2])\n",
        "st.mode(X)"
      ],
      "metadata": {
        "colab": {
          "base_uri": "https://localhost:8080/"
        },
        "id": "IeMApU30E0gO",
        "outputId": "8ffcf496-b038-4f7a-e94b-eb30f6b686ec"
      },
      "execution_count": null,
      "outputs": [
        {
          "output_type": "execute_result",
          "data": {
            "text/plain": [
              "4.5"
            ]
          },
          "metadata": {},
          "execution_count": 7
        }
      ]
    },
    {
      "cell_type": "markdown",
      "metadata": {
        "id": "NfdNnS2d2DKj"
      },
      "source": [
        "### <a name='3'></a> Statystyka opisowa - miary rozrzutu\n",
        "\n",
        "**DEFINICJA 8.**\n",
        "**Średni błąd** ciągu wartości $x_1, \\dots, x_n$ nazywamy wartość:\n",
        "$$b=\\frac{1}{n} \\sum_{i=1}^{n} | x_{i}-\\bar{x} |$$\n",
        "\n",
        "Im mniejszy jest średni błąd tym zmienna $X$ ma mniejszy rozrzut.\n",
        "\n",
        "**PRZYKŁAD 9.**\n",
        "Rozważmy zmienną losową $X$ o realizacji $3.5, 4.0, 4.0$ oraz zmienną losową $Y$ o realizacji $2.0, 4.0, 5.0$.\n",
        "\n",
        "Policzmy średni błąd.  \n",
        "$\\bar{X} = \\frac{3.5 + 4.0 + 4.0}{3} = 3.83$  \n",
        "$\\bar{Y} = \\frac{2.0 + 4.0 + 5.0}{3} = 3.67$\n",
        "\n",
        "Zatem  \n",
        "$b_X = \\frac{1}{3}(|3.5 - 3.83| + |4.0 - 3.83| + |4.0 - 3.83|) = $\n"
      ]
    },
    {
      "cell_type": "code",
      "source": [
        "X = [3.5,4.0,4.0]\n",
        "Y = [2.0,4.0,5.0]\n",
        "\n",
        "X_mean = np.mean(X)\n",
        "Y_mean = np.mean(Y)\n",
        "\n",
        "print(f'X_mean: {X_mean:.4f}')\n",
        "print(f'Y_mean: {Y_mean:.4f}')"
      ],
      "metadata": {
        "colab": {
          "base_uri": "https://localhost:8080/"
        },
        "id": "DGd5stLdHIbi",
        "outputId": "bb4ab836-e9d3-4f70-eac8-f26121b35f39"
      },
      "execution_count": null,
      "outputs": [
        {
          "output_type": "stream",
          "name": "stdout",
          "text": [
            "X_mean: 3.8333\n",
            "Y_mean: 3.6667\n"
          ]
        }
      ]
    },
    {
      "cell_type": "code",
      "source": [
        "#obliczamy średni błąd dla zmiennej X oraz zmiennej Y\n",
        "b_X = 1 / len(X) * (abs(X - X_mean).sum())\n",
        "b_Y = 1 / len(Y) * (abs(Y - Y_mean).sum())\n",
        "\n",
        "print(f'Średni błąd X: {b_X:.4f}')\n",
        "print(f'Średni błąd Y: {b_Y:.4f}')"
      ],
      "metadata": {
        "colab": {
          "base_uri": "https://localhost:8080/"
        },
        "id": "US0_dizDHdFU",
        "outputId": "18ef3de8-760a-4e1f-c2e1-a03e705f631a"
      },
      "execution_count": null,
      "outputs": [
        {
          "output_type": "stream",
          "name": "stdout",
          "text": [
            "Średni błąd X: 0.2222\n",
            "Średni błąd Y: 1.1111\n"
          ]
        }
      ]
    },
    {
      "cell_type": "markdown",
      "metadata": {
        "id": "p70rnjqU_bup"
      },
      "source": [
        "**DEFINICJA 10.**\n",
        "Wariancją ciągu $x_1, \\dots, x_n$ nazywamy wartość:\n",
        "\n",
        "$$s_{n}^{2} = \\frac{1}{n} \\sum_{i=1}^{n} ( x_{i}-\\bar{x})^{2}$$  \n",
        "\n",
        "**DEFINICJA 11.**\n",
        "Odchyleniem standardowym ciągu $x_1, \\dots, x_n$ nazywamy wartość:\n",
        "\n",
        "$$s_n = \\sqrt{\\frac{1}{n} \\sum_{i=1}^{n} ( x_{i}-\\bar{x})^{2}}.$$"
      ]
    },
    {
      "cell_type": "code",
      "source": [
        "# wariancja zmiennej\n",
        "var_X = 1 / len(X) * ((X - X_mean)**2).sum()\n",
        "var_Y = 1 / len(Y) * ((Y - Y_mean)**2).sum()\n",
        "\n",
        "print(f'Wariancja zmiennej X: {var_X:.4f}')\n",
        "print(f'Wariancja zmiennej  Y: {var_Y:.4f}')"
      ],
      "metadata": {
        "colab": {
          "base_uri": "https://localhost:8080/"
        },
        "id": "n5D1NtNfIU8J",
        "outputId": "8e1c5421-a6df-4248-a3f2-c48df0cc1949"
      },
      "execution_count": null,
      "outputs": [
        {
          "output_type": "stream",
          "name": "stdout",
          "text": [
            "Wariancja zmiennej X: 0.0556\n",
            "Wariancja zmiennej  Y: 1.5556\n"
          ]
        }
      ]
    },
    {
      "cell_type": "code",
      "source": [
        "#odchylenie standardowe - pierwiastek kwadratowy z wariancji\n",
        "std_X = np.sqrt(var_X)\n",
        "std_Y = np.sqrt(var_Y)\n",
        "\n",
        "print(f'Odchylenie zmiennej X: {std_X:.4f}')\n",
        "print(f'Odchylenie zmiennej Y: {std_Y:.4f}')"
      ],
      "metadata": {
        "colab": {
          "base_uri": "https://localhost:8080/"
        },
        "id": "dur4MvEZJPJw",
        "outputId": "d247659c-f9ff-4dfd-8ffc-5c518a1a0f2e"
      },
      "execution_count": null,
      "outputs": [
        {
          "output_type": "stream",
          "name": "stdout",
          "text": [
            "Odchylenie zmiennej X: 0.2357\n",
            "Odchylenie zmiennej Y: 1.2472\n"
          ]
        }
      ]
    },
    {
      "cell_type": "code",
      "source": [
        "#odchylenie standardowe - np.std()\n",
        "print(f'Odchylenie zmiennej X: {np.std(X):.4f}')\n",
        "print(f'Odchylenie zmiennej Y: {np.std(Y):.4f}')"
      ],
      "metadata": {
        "colab": {
          "base_uri": "https://localhost:8080/"
        },
        "id": "nfM21pNRJrsy",
        "outputId": "a7f4b3e5-07f1-4026-eabc-3f85b1b43ffa"
      },
      "execution_count": null,
      "outputs": [
        {
          "output_type": "stream",
          "name": "stdout",
          "text": [
            "Odchylenie zmiennej X: 0.2357\n",
            "Odchylenie zmiennej Y: 1.2472\n"
          ]
        }
      ]
    },
    {
      "cell_type": "markdown",
      "metadata": {
        "id": "oy0YNOyQBiy5"
      },
      "source": [
        "### <a name='4'></a> Dystrybuanta empiryczna\n",
        "\n",
        "**DEFINICJA 12.**\n",
        "Kwantylem rzędu $p$ zmiennej losowej $X$ nazywamy wartość, która dzieli uporządkowany ciąg wartości $x_1, \\dots, x_n$ na dwie części w proporcjach $p$ oraz $1-p$. \n",
        "\n",
        "**PRZYKŁAD 13.**\n",
        "Mediana jest kwantylem rzędu $p=\\frac{1}{2}$.\n",
        "\n",
        "**DEFINICJA 14.**\n",
        "Dystrybuantą empiryczną ciągu  $x_1, \\dots, x_n$ nazywamy funkcję określoną wzorem:\n",
        "$$F(x)=\\frac{ \\# \\{x_{i}: \\ x_{i} \\leq x \\} }{n} \\;\\; \\textrm{dla}\\;\\; x\\in {\\Bbb R}$$\n",
        "\n",
        "Przy pomocy dystrybuanty możemy w prosty sposób określić wzór na kwantyl rzędu $p$:\n",
        "\n",
        "$$q_p = \\min \\{ x : F(x) \\ge p \\}$$\n",
        "\n",
        "\n"
      ]
    },
    {
      "cell_type": "markdown",
      "metadata": {
        "id": "JbcTnawHF7j_"
      },
      "source": [
        "### <a name='5'></a> Przestrzeń probabilistyczna\n",
        "\n",
        "\n",
        "**DEFINICJA 15.**\n",
        "Przestrzenią probabilistyczną nazywamy trójkę $(\\Omega, \\mathscr{F}, P)$, gdzie $\\Omega$ jest zbiorem niepustym (przestrzeń zdarzeń), $\\mathscr{F}$ jest rodziną podzbiorów zbioru $\\Omega$ (sigma ciało) oraz $P$ jest miarą probabilistyczną (prawdopodobieństwo):\n",
        "$$P:\\mathscr{F} \\rightarrow R$$\n",
        "\n",
        "Elementy zbioru $\\Omega$ nazywamy zdarzeniami elementarnymi, elementy $\\mathscr{F}$ zdarzeniami. Zbiór pusty reprezentuje zdarzenie niemożliwe, zaś zbiór $\\Omega$ zdarzenie pewne. Zdarzenie $\\Omega \\backslash A$ nazywamy zdarzeniem przeciwnym do zdarzenia $A$ i wreszcie liczbę $P(A)$ nazywamy prawdopodobieństwem zdarzenia A."
      ]
    },
    {
      "cell_type": "markdown",
      "metadata": {
        "id": "JDQl0UHMF9lR"
      },
      "source": [
        "### <a name='6'></a> Przestrzeń klasyczna\n",
        "\n",
        "Niech $\\Omega$ będzie zbiorem skończonym składającym się z $n$ jednakowo prawdopodobnych zdarzeń elementarnych:\n",
        "$$\\Omega = \\{\\omega_1, \\dots, \\omega_n\\}$$\n",
        "oraz niech $\\mathscr{F}$ rodzina podzbiorów zbioru $\\Omega$. Jeśli $A \\in \\mathscr{F}$, to:\n",
        "$$P(A) = \\frac{\\#A}{n}$$\n",
        "\n",
        "**PRZYKŁAD 16.**\n",
        "Niech $\\Omega = \\{1, 2, 3, 4, 5, 6\\}$, $A$ oznacza zdarzenie polegające na wyrzuceniu liczby parzystej, mamy zatem   \n",
        "$n=6$  \n",
        "$A=\\{2, 4, 6\\}$   \n",
        "oraz $\\#A = 3$  \n",
        "Stąd $P(A) = \\frac{\\#A}{n} = \\frac{3}{6} = \\frac{1}{2}$\n",
        "\n"
      ]
    },
    {
      "cell_type": "code",
      "source": [
        "#omega - nasz zbiór zdarzeń\n",
        "omega = {1, 2, 3, 4, 5, 6}\n",
        "# A - liczba zdarzeń sprzyjająych (możliwych lub spełniających kryterium)\n",
        "A = {item for item in omega if item % 2 == 0}\n",
        "#prawdopodobieństwo\n",
        "P_A = len(A)/len(omega)\n",
        "\n",
        "print(f'Zbiór A: {A} \\n')\n",
        "print(f'Prawdopodobieństwo zdarzenia A: {P_A}')"
      ],
      "metadata": {
        "colab": {
          "base_uri": "https://localhost:8080/"
        },
        "id": "G9RCulkLI7v4",
        "outputId": "337d36f4-d27e-4e8c-aa75-ddc996e9770e"
      },
      "execution_count": null,
      "outputs": [
        {
          "output_type": "stream",
          "name": "stdout",
          "text": [
            "Zbiór A: {2, 4, 6} \n",
            "\n",
            "Prawdopodobieństwo zdarzenia A: 0.5\n"
          ]
        }
      ]
    },
    {
      "cell_type": "markdown",
      "metadata": {
        "id": "EQ4T7Mo6KN5z"
      },
      "source": [
        "**PRZYKŁAD 17.**\n",
        "Niech $\\Omega = \\{1, 2, 3, 4, 5, 6\\}$, $B$ oznacza zdarzenie polegające na wyrzuceniu liczby większej niż 4, mamy zatem   \n",
        "$n=6$  \n",
        "$B=\\{5, 6\\}$   \n",
        "oraz $\\#B = 2$  \n",
        "Stąd $P(B) = \\frac{\\#A}{n} = \\frac{2}{6} = \\frac{1}{3}$"
      ]
    },
    {
      "cell_type": "code",
      "source": [
        "# omega - nasz zbiór zdarzeń\n",
        "omega = {1, 2, 3, 4, 5, 6}\n",
        "# B - liczba zdarzeń sprzyjająych (możliwych lub spełniających kryterium)\n",
        "B = {item for item in omega if item > 4}\n",
        "#prawdopodobieństwo\n",
        "P_B = len(B)/len(omega)\n",
        "\n",
        "print(f'Zbiór B: {B} \\n')\n",
        "print(f'Prawdopodobieństwo zdarzenia B: {P_B:.2f}')"
      ],
      "metadata": {
        "colab": {
          "base_uri": "https://localhost:8080/"
        },
        "id": "XLhx9TLaKB_7",
        "outputId": "05e8d600-dc62-4b65-c691-5365f4983d7f"
      },
      "execution_count": null,
      "outputs": [
        {
          "output_type": "stream",
          "name": "stdout",
          "text": [
            "Zbiór B: {5, 6} \n",
            "\n",
            "Prawdopodobieństwo zdarzenia B: 0.33\n"
          ]
        }
      ]
    },
    {
      "cell_type": "markdown",
      "metadata": {
        "id": "QeTzBHnfKkrV"
      },
      "source": [
        "### <a name='7'></a> Niezależność zdarzeń\n",
        "\n",
        "**DEFINICJA 18.**\n",
        " Dwa zdarzenia $A$ i $B$ są niezależne, gdy:\n",
        "$$P(A\\cap B) = P(A)\\cdot  P(B)$$\n",
        "\n",
        "**PRZYKŁAD 17.**\n",
        "Rozważmy dwa zdarzenia $A$ i $B$ z poprzednich przykładów.\n",
        "\n"
      ]
    },
    {
      "cell_type": "code",
      "source": [
        "intersection_AB = set.intersection(A, B) #punkty przecięcia zbiorów A i B\n",
        "P_intersection_AB = len(intersection_AB) / len(omega) #prawdopodobieństwo zdarzenia AB\n",
        "\n",
        "PA_PB = P_A * P_B\n",
        "\n",
        "print(f'Przecięcie zbiorów A i B: {intersection_AB}\\n')\n",
        "print(f'Iloczyn prawdopodobieństw zdarzeń A i B: {PA_PB:.4f}')\n",
        "print(f'Prawdopodobieństwo iloczynu zdarzeń A i B: {P_intersection_AB:.4f}\\n')\n",
        "\n",
        "check = 'Zdarzenia niezależne' if PA_PB == P_intersection_AB else 'Zdarzenia zależne'\n",
        "print(check)"
      ],
      "metadata": {
        "colab": {
          "base_uri": "https://localhost:8080/"
        },
        "id": "TJCc5g8ILDk8",
        "outputId": "6d01879a-bb3c-4e35-aa0f-a1e35748375b"
      },
      "execution_count": null,
      "outputs": [
        {
          "output_type": "stream",
          "name": "stdout",
          "text": [
            "Przecięcie zbiorów A i B: {6}\n",
            "\n",
            "Iloczyn prawdopodobieństw zdarzeń A i B: 0.1667\n",
            "Prawdopodobieństwo iloczynu zdarzeń A i B: 0.1667\n",
            "\n",
            "Zdarzenia niezależne\n"
          ]
        }
      ]
    },
    {
      "cell_type": "markdown",
      "metadata": {
        "id": "tqRMDhy-QSil"
      },
      "source": [
        "Rozważmy zdarzenie $C$ - wyrzucenie liczby oczek większą niż 1"
      ]
    },
    {
      "cell_type": "code",
      "source": [
        "C = {item for item in omega if item > 1}\n",
        "\n",
        "P_C = len(C) / len(omega)\n",
        "print(f'Zbiór C: {C}')\n",
        "print(f'Prawdopodobieństwo zdarzenia C: {P_C:.4f}')\n",
        "\n",
        "intersection_AC = set.intersection(A, C)\n",
        "P_intersection_AC = len(intersection_AC) / len(omega)\n",
        "\n",
        "PA_PC = P_A * P_C\n",
        "\n",
        "print(f'Przecięcie zbiorów A i C: {intersection_AC}\\n')\n",
        "print(f'Iloczyn prawdopodobieństw zdarzeń A i C: {PA_PC:.4f}')\n",
        "print(f'Prawdopodobieństwo iloczynu zdarzeń A i C: {P_intersection_AC:.4f}\\n')\n",
        "\n",
        "check = 'Zdarzenia niezależne' if PA_PC == P_intersection_AC else 'Zdarzenia zależne'\n",
        "print(check)"
      ],
      "metadata": {
        "colab": {
          "base_uri": "https://localhost:8080/"
        },
        "id": "0gvMOOT2L5tb",
        "outputId": "b98f635a-7b6c-4926-d117-157a8687b9cc"
      },
      "execution_count": null,
      "outputs": [
        {
          "output_type": "stream",
          "name": "stdout",
          "text": [
            "Zbiór C: {2, 3, 4, 5, 6}\n",
            "Prawdopodobieństwo zdarzenia C: 0.8333\n",
            "Przecięcie zbiorów A i C: {2, 4, 6}\n",
            "\n",
            "Iloczyn prawdopodobieństw zdarzeń A i C: 0.4167\n",
            "Prawdopodobieństwo iloczynu zdarzeń A i C: 0.5000\n",
            "\n",
            "Zdarzenia zależne\n"
          ]
        }
      ]
    },
    {
      "cell_type": "markdown",
      "metadata": {
        "id": "dP7W9Q_UQb-O"
      },
      "source": [
        "###  <a name='8'></a> Prawdopodobieństwo warunkowe\n",
        "Prawdopodobieństwem warunkowym zdarzenia $A$ pod warunkiem zajścia zdarzenia $B$ przy zał. $P(B) > 0$ nazywamy:\n",
        "$$P(A|B) = \\frac{P(A\\cap B)}{P(B)}.$$"
      ]
    },
    {
      "cell_type": "code",
      "metadata": {
        "id": "T8q8wk1pRLag",
        "outputId": "e7e6d6c7-428a-447a-f30c-1f651ba51111",
        "colab": {
          "base_uri": "https://localhost:8080/"
        }
      },
      "source": [
        "print(f'A: {A}')\n",
        "print(f'B: {B}')\n",
        "print(f'Przecięcie A i B: {intersection_AB}')"
      ],
      "execution_count": null,
      "outputs": [
        {
          "output_type": "stream",
          "name": "stdout",
          "text": [
            "A: {2, 4, 6}\n",
            "B: {5, 6}\n",
            "Przecięcie A i B: {6}\n"
          ]
        }
      ]
    },
    {
      "cell_type": "code",
      "metadata": {
        "id": "CBk3XqzgO4bj",
        "outputId": "4cb8122a-1051-43af-f5cc-6917785bdba1",
        "colab": {
          "base_uri": "https://localhost:8080/"
        }
      },
      "source": [
        "PA_cond_B = P_intersection_AB / P_B\n",
        "\n",
        "print(f'Prawdopodobieństwo wylosowania liczby parzystej pod warunkiem, że wylosowaliśmy liczbę większą niż 4 wynosi: {PA_cond_B}')"
      ],
      "execution_count": null,
      "outputs": [
        {
          "output_type": "stream",
          "name": "stdout",
          "text": [
            "Prawdopodobieństwo wylosowania liczby parzystej pod warunkiem, że wylosowaliśmy liczbę większą niż 4 wynosi: 0.5\n"
          ]
        }
      ]
    },
    {
      "cell_type": "markdown",
      "metadata": {
        "id": "u__MyE3e5kpt"
      },
      "source": [
        "### <a name='9'> </a> Zmienna Losowa"
      ]
    },
    {
      "cell_type": "markdown",
      "metadata": {
        "id": "VfFIdOkE4Z0s"
      },
      "source": [
        "### Dystrybuanta\n",
        "\n",
        "Niech $X$ będzie zmienną losową z przestrzeni $R^n$. Niech $F(x)$ oznacza dystrybuantę zmiennej losowej $X$, tzn.\n",
        "$$F(x) = P(X \\leq x)$$  \n",
        "Jeśli dystrybuanta jest funkcją ciągłą to funkcja określona wzorem\n",
        "$$f(x) = \\frac{dF(x)}{dx} = F'(x)$$  \n",
        "jest nazywana **gęstością rozkładu** zmiennej losowej $X$.  \n",
        "Stąd mamy $$P(a < X \\leq b) = \\int_a^bf(x)\\ dx$$"
      ]
    },
    {
      "cell_type": "markdown",
      "metadata": {
        "id": "3lFt-QAk4i-w"
      },
      "source": [
        "### Wartość oczekiwana\n",
        "Wartością oczekiwaną zmiennej losowej ciągłej nazywamy wartość:\n",
        "$$E(X) = \\int_{-\\infty}^{\\infty}x \\cdot f(x)\\ dx$$\n",
        "\n",
        "Wartością oczekiwaną zmiennej losowej dyskretnej nazywamy wartość:\n",
        "$$E(X) = \\sum_{i=1}^{n}x_i \\cdot P(X=x_i)$$\n",
        "\n",
        "Dla klasycznej przestrzeni probabilistycznej, gdzie każde zdarzenie ma jednakowe prawdopodobieństwo zajścia otrzymujemy klasyczny wzór:\n",
        "$$E(X) = \\frac{1}{n}\\sum_{i=1}^{n}x_{i}$$"
      ]
    },
    {
      "cell_type": "markdown",
      "metadata": {
        "id": "C6ydYavC4l2F"
      },
      "source": [
        "### Wariancja\n",
        "Warjancją zmiennej losowej nazywamy wartość:\n",
        "$$Var(X) = E(X-E(X))^2 = E(X^2) - (E(X))^2$$\n",
        "\n",
        "Stąd wariancja zmiennej losowej ciągłęj ma postać:\n",
        "$$Var(X) = D^2(X) = \\int_{-\\infty}^{\\infty}(x - E(X))^2 \\cdot f(x)\\ dx$$"
      ]
    },
    {
      "cell_type": "markdown",
      "metadata": {
        "id": "0vi1724J4oAp"
      },
      "source": [
        "### Odchylenie Standardowe\n",
        "Odchyleniem standardowym nazywamy pierwiastek z wariancji, tj.\n",
        "$$\\sigma(X) = \\sqrt{D^2(X)}$$"
      ]
    },
    {
      "cell_type": "markdown",
      "metadata": {
        "id": "yR3ID2Nm4qQZ"
      },
      "source": [
        "### Kowariancja\n",
        "$X, Y$ - zmienne losowe\n",
        "\n",
        "$$Cov(X, Y) = E(X-E(X))(Y-E(Y))= E(XY) - E(X)E(Y)$$"
      ]
    },
    {
      "cell_type": "markdown",
      "metadata": {
        "id": "MpAHRcVn4ss9"
      },
      "source": [
        "### Korelacja\n",
        "$$Cor(X, Y) = \\frac{Cov(X, Y)}{\\sigma(X)\\cdot \\sigma(Y)}$$"
      ]
    },
    {
      "cell_type": "markdown",
      "metadata": {
        "id": "aq5sCBmU4wPz"
      },
      "source": [
        "### Błąd standardowy\n",
        "$$SE(X) = \\frac{\\sigma(X)}{\\sqrt(n)}$$"
      ]
    },
    {
      "cell_type": "markdown",
      "metadata": {
        "id": "N_wtStl84yZq"
      },
      "source": [
        "### Przykład 1\n",
        "\n",
        "| $X$        | 0   | 1   | 2    | 3    |\n",
        "|----------|-----|-----|------|------|\n",
        "| $P(X=x_i)$ | 0.5 | 0.3 | 0.15 | 0.05 |\n",
        "\n",
        "$E(X) = 0 \\cdot 0.5 + 1 \\cdot 0.3 + 2 \\cdot 0.15 + 3 \\cdot 0.05$"
      ]
    },
    {
      "cell_type": "code",
      "source": [
        "# EX - wartość oczekiwana zmiennej X\n",
        "EX = 0 * 0.5 + 1 * 0.3 + 2 * 0.15 + 3 * 0.05\n",
        "EX"
      ],
      "metadata": {
        "colab": {
          "base_uri": "https://localhost:8080/"
        },
        "id": "hScwffJNPV6W",
        "outputId": "582d652f-b35c-4de0-d362-d4358666b4ba"
      },
      "execution_count": null,
      "outputs": [
        {
          "output_type": "execute_result",
          "data": {
            "text/plain": [
              "0.75"
            ]
          },
          "metadata": {},
          "execution_count": 30
        }
      ]
    },
    {
      "cell_type": "code",
      "source": [
        "#wariancja zmiennej X\n",
        "VAR_X = (0 - EX)**2 * 0.5 + (1 - EX)**2 * 0.3 + (2 - EX)**2 * 0.15 +(3 - EX)**2 * 0.05\n",
        "VAR_X"
      ],
      "metadata": {
        "colab": {
          "base_uri": "https://localhost:8080/"
        },
        "id": "cHFFj_gqQTJm",
        "outputId": "0f4e92a7-a98f-4958-c1f5-ace691db787f"
      },
      "execution_count": null,
      "outputs": [
        {
          "output_type": "execute_result",
          "data": {
            "text/plain": [
              "0.7875000000000001"
            ]
          },
          "metadata": {},
          "execution_count": 31
        }
      ]
    },
    {
      "cell_type": "code",
      "source": [
        "#odchylenie standardowe zmiennej X\n",
        "STD_X = np.sqrt(VAR_X)\n",
        "STD_X"
      ],
      "metadata": {
        "colab": {
          "base_uri": "https://localhost:8080/"
        },
        "id": "srCbhiD9QY-t",
        "outputId": "e64ea576-f307-422c-d5c8-a4fdd7dadf85"
      },
      "execution_count": null,
      "outputs": [
        {
          "output_type": "execute_result",
          "data": {
            "text/plain": [
              "0.8874119674649424"
            ]
          },
          "metadata": {},
          "execution_count": 32
        }
      ]
    },
    {
      "cell_type": "code",
      "source": [
        "#5 losowych próbek z rozkładu normalnego\n",
        "\n",
        "x = np.random.randn(5)\n",
        "y = np.random.randn(5)\n",
        "\n",
        "print(f'x: {x}')\n",
        "print(f'y: {y}')"
      ],
      "metadata": {
        "colab": {
          "base_uri": "https://localhost:8080/"
        },
        "id": "c7l-ibvcQiAc",
        "outputId": "83904882-9625-4fda-9208-36910c772a23"
      },
      "execution_count": null,
      "outputs": [
        {
          "output_type": "stream",
          "name": "stdout",
          "text": [
            "x: [ 2.30887926 -1.11853847  0.48099274 -1.58197275 -1.91014055]\n",
            "y: [ 1.4311882  -0.27300247  0.83984678  0.24636653  0.33111841]\n"
          ]
        }
      ]
    },
    {
      "cell_type": "code",
      "source": [
        "#średnia dla zbioru x\n",
        "x.mean()"
      ],
      "metadata": {
        "colab": {
          "base_uri": "https://localhost:8080/"
        },
        "id": "DesBzJQ8RzQf",
        "outputId": "67436bb4-1a67-49cb-e163-b67fb0960eb4"
      },
      "execution_count": null,
      "outputs": [
        {
          "output_type": "execute_result",
          "data": {
            "text/plain": [
              "-0.3641559531015103"
            ]
          },
          "metadata": {},
          "execution_count": 36
        }
      ]
    },
    {
      "cell_type": "code",
      "source": [
        "#odchylenie standardowe dla zbioru x\n",
        "x.std()"
      ],
      "metadata": {
        "colab": {
          "base_uri": "https://localhost:8080/"
        },
        "id": "G6W4ynwAR2Mv",
        "outputId": "37db78a3-0138-48cc-96ff-2e18ad6edbfc"
      },
      "execution_count": null,
      "outputs": [
        {
          "output_type": "execute_result",
          "data": {
            "text/plain": [
              "1.5685428035701863"
            ]
          },
          "metadata": {},
          "execution_count": 39
        }
      ]
    },
    {
      "cell_type": "code",
      "source": [
        "#macierz korelacji dla zbioru x i y\n",
        "np.corrcoef(x, y)"
      ],
      "metadata": {
        "colab": {
          "base_uri": "https://localhost:8080/"
        },
        "id": "hy9Dr9aVSHFc",
        "outputId": "dcb056bd-4387-4656-dec0-1427d2b97e94"
      },
      "execution_count": null,
      "outputs": [
        {
          "output_type": "execute_result",
          "data": {
            "text/plain": [
              "array([[1.       , 0.8664612],\n",
              "       [0.8664612, 1.       ]])"
            ]
          },
          "metadata": {},
          "execution_count": 41
        }
      ]
    },
    {
      "cell_type": "markdown",
      "metadata": {
        "id": "e86_oL-25Qxu"
      },
      "source": [
        "### Rozkład normalny \n",
        "\n",
        "Rozkład normalny $X \\sim N(\\mu, \\sigma)$"
      ]
    },
    {
      "cell_type": "code",
      "metadata": {
        "id": "86kajNm55OtY",
        "outputId": "2c0aff87-015a-4565-b7be-50e051cd6a04",
        "colab": {
          "base_uri": "https://localhost:8080/",
          "height": 457
        }
      },
      "source": [
        "import matplotlib.pyplot as plt\n",
        "import seaborn as sns\n",
        "from scipy.stats import norm\n",
        "sns.set()\n",
        "\n",
        "mu = 0 # średnia oczekiwana\n",
        "sigma = 1 # odchylenie standardowe\n",
        "x = np.linspace(mu - 3 * sigma, mu + 3 * sigma, 100)\n",
        "plt.title('Rozkład normalny - funkcja gęstości')\n",
        "_ = plt.plot(x, norm.pdf(x, mu, sigma))"
      ],
      "execution_count": null,
      "outputs": [
        {
          "output_type": "display_data",
          "data": {
            "text/plain": [
              "<Figure size 640x480 with 1 Axes>"
            ],
            "image/png": "[encoded data removed]"
          },
          "metadata": {}
        }
      ]
    },
    {
      "cell_type": "code",
      "metadata": {
        "id": "GhSVdTKY5SyR",
        "outputId": "ded45cc0-e670-4431-a836-7337c45517c9",
        "colab": {
          "base_uri": "https://localhost:8080/",
          "height": 699
        }
      },
      "source": [
        "x = np.linspace(mu - 5 * sigma, mu + 5 * sigma, 500)\n",
        "params = [(0, 1), (0, 2), (0, 0.5)]\n",
        "\n",
        "plt.figure(figsize=(8, 8))\n",
        "for mu, sigma in params:\n",
        "    plt.plot(x, norm.pdf(x, mu, sigma), label=f'mu={mu}, sigma={sigma}')\n",
        "plt.legend()"
      ],
      "execution_count": null,
      "outputs": [
        {
          "output_type": "execute_result",
          "data": {
            "text/plain": [
              "<matplotlib.legend.Legend at 0x7f93bff4b700>"
            ]
          },
          "metadata": {},
          "execution_count": 43
        },
        {
          "output_type": "display_data",
          "data": {
            "text/plain": [
              "<Figure size 800x800 with 1 Axes>"
            ],
            "image/png": "[encoded data removed]"
          },
          "metadata": {}
        }
      ]
    }
  ]
}