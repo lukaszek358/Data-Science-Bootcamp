{
  "nbformat": 4,
  "nbformat_minor": 0,
  "metadata": {
    "colab": {
      "provenance": [],
      "toc_visible": true,
      "authorship_tag": "ABX9TyNqpjxGEn9Rb0PeY9G2kip+",
      "include_colab_link": true
    },
    "kernelspec": {
      "name": "python3",
      "display_name": "Python 3"
    },
    "language_info": {
      "name": "python"
    }
  },
  "cells": [
    {
      "cell_type": "markdown",
      "metadata": {
        "id": "view-in-github",
        "colab_type": "text"
      },
      "source": [
        "<a href=\"https://colab.research.google.com/github/lukaszek358/Data_Science_Bootcamp/blob/main/1_Wprowadzenie/1_Data_Science_Bootcamp_w_j%C4%99zyku_Python_od_A_do_Z_Numpy_.ipynb\" target=\"_parent\"><img src=\"https://colab.research.google.com/assets/colab-badge.svg\" alt=\"Open In Colab\"/></a>"
      ]
    },
    {
      "cell_type": "markdown",
      "source": [
        "#Podstawy"
      ],
      "metadata": {
        "id": "y2mfP0n-Bzpo"
      }
    },
    {
      "cell_type": "code",
      "execution_count": null,
      "metadata": {
        "id": "CPov_bko2oIs"
      },
      "outputs": [],
      "source": [
        "#@title\n",
        "#import biblioteki\n",
        "import numpy as np\n",
        "np.__version__"
      ]
    },
    {
      "cell_type": "code",
      "source": [
        "#@title\n",
        "#klasy/ metody/ atrybuty biblioteki numpy\n",
        "print(dir(np))"
      ],
      "metadata": {
        "id": "ca-sYMpQBsLz"
      },
      "execution_count": null,
      "outputs": []
    },
    {
      "cell_type": "code",
      "source": [
        "#@title\n",
        "# wyświetlanie pomocy do określonej metody w biblioteki\n",
        "\n",
        "help(np.array)"
      ],
      "metadata": {
        "id": "gAJPmw5CBsYc"
      },
      "execution_count": null,
      "outputs": []
    },
    {
      "cell_type": "markdown",
      "source": [
        "## 1D Array (tablica 1-wymiarowa [One-Dimension Array])"
      ],
      "metadata": {
        "id": "7alGvS22C9wx"
      }
    },
    {
      "cell_type": "code",
      "source": [
        "#@title\n",
        "x = np.array([1, 3])\n",
        "x"
      ],
      "metadata": {
        "id": "SZuQR0gjC3RN"
      },
      "execution_count": null,
      "outputs": []
    },
    {
      "cell_type": "code",
      "source": [
        "#@title\n",
        "print(x)\n",
        "print(type(x))"
      ],
      "metadata": {
        "id": "xECRUHyBC3UD"
      },
      "execution_count": null,
      "outputs": []
    },
    {
      "cell_type": "code",
      "source": [
        "#@title\n",
        "#liczba wymiarów\n",
        "x.ndim"
      ],
      "metadata": {
        "id": "5hF85bslC3Wi"
      },
      "execution_count": null,
      "outputs": []
    },
    {
      "cell_type": "code",
      "source": [
        "#@title\n",
        "x.shape #kształt"
      ],
      "metadata": {
        "id": "8wYjCbnhBsew"
      },
      "execution_count": null,
      "outputs": []
    },
    {
      "cell_type": "code",
      "source": [
        "#@title\n",
        "x.size #liczba elementów"
      ],
      "metadata": {
        "id": "KkW-BsUkDvHZ"
      },
      "execution_count": null,
      "outputs": []
    },
    {
      "cell_type": "code",
      "source": [
        "#@title\n",
        "x.dtype #typ danych"
      ],
      "metadata": {
        "id": "61l2znLfDvKg"
      },
      "execution_count": null,
      "outputs": []
    },
    {
      "cell_type": "code",
      "source": [
        "#@title\n",
        "x = np.array([1.3, 2.3, 1.4])\n",
        "print(x)"
      ],
      "metadata": {
        "id": "oaWHJ6hnECW8"
      },
      "execution_count": null,
      "outputs": []
    },
    {
      "cell_type": "code",
      "source": [
        "#@title\n",
        "x.dtype"
      ],
      "metadata": {
        "id": "fkgp9fpnECZ1"
      },
      "execution_count": null,
      "outputs": []
    },
    {
      "cell_type": "markdown",
      "source": [
        "##2D Array"
      ],
      "metadata": {
        "id": "eVaYwHytD7ei"
      }
    },
    {
      "cell_type": "code",
      "source": [
        "#@title\n",
        "x = np.array([[1, 2], [-3, 1]])"
      ],
      "metadata": {
        "id": "T0eoAjwDDvNK"
      },
      "execution_count": null,
      "outputs": []
    },
    {
      "cell_type": "code",
      "source": [
        "#@title\n",
        "x.ndim #liczba wymiarów"
      ],
      "metadata": {
        "id": "W0Jegen3EYZS"
      },
      "execution_count": null,
      "outputs": []
    },
    {
      "cell_type": "code",
      "source": [
        "#@title\n",
        "x.shape #wielkosć tablicy (kształt)"
      ],
      "metadata": {
        "id": "7Yq6GfQ8EYb2"
      },
      "execution_count": null,
      "outputs": []
    },
    {
      "cell_type": "code",
      "source": [
        "#@title\n",
        "x.size # liczba elementów"
      ],
      "metadata": {
        "id": "ppH5jZJ5EYek"
      },
      "execution_count": null,
      "outputs": []
    },
    {
      "cell_type": "code",
      "source": [
        "#@title\n",
        "x = np.array([[1, 2, 4], [4, 2, 1]])\n",
        "print(x)"
      ],
      "metadata": {
        "id": "Uw56rH5DEYhk"
      },
      "execution_count": null,
      "outputs": []
    },
    {
      "cell_type": "code",
      "source": [
        "#@title\n",
        "x.shape"
      ],
      "metadata": {
        "id": "whA1SZt5EYkG"
      },
      "execution_count": null,
      "outputs": []
    },
    {
      "cell_type": "markdown",
      "source": [
        "##3D Array"
      ],
      "metadata": {
        "id": "3FWX6Ad_FqT3"
      }
    },
    {
      "cell_type": "code",
      "source": [
        "#@title\n",
        "x = np.array(\n",
        "    [[[4, 3, 1],\n",
        "      [3, 1, 2]],\n",
        "     [[4, 1, 3],\n",
        "      [4, 2, 1]]]\n",
        ")\n",
        "x"
      ],
      "metadata": {
        "id": "TbkSEk2-FsNV"
      },
      "execution_count": null,
      "outputs": []
    },
    {
      "cell_type": "code",
      "source": [
        "#@title\n",
        "x.ndim"
      ],
      "metadata": {
        "id": "3i6qVGfsFsPz"
      },
      "execution_count": null,
      "outputs": []
    },
    {
      "cell_type": "code",
      "source": [
        "#@title\n",
        "print(f' 2 elementy - 2 wiersze - 3 kolumny: \\n{x.shape}')"
      ],
      "metadata": {
        "id": "n9dw9WhIFsSW"
      },
      "execution_count": null,
      "outputs": []
    },
    {
      "cell_type": "code",
      "source": [
        "#@title\n",
        "x = np.array(\n",
        "    [[[4, 3, 1],\n",
        "      [3, 1, 2]],\n",
        "     [[4, 1, 3],\n",
        "      [4, 2, 1]],\n",
        "     [[3, 2, 1],\n",
        "      [4, 3, 2]]]\n",
        ")\n",
        "x"
      ],
      "metadata": {
        "id": "qhAaRik2FsU8"
      },
      "execution_count": null,
      "outputs": []
    },
    {
      "cell_type": "code",
      "source": [
        "#@title\n",
        "print(f' 3 elementy - 2 wiersze - 3 kolumny:\\t{x.shape}')"
      ],
      "metadata": {
        "id": "q6EsPJg0FsYQ"
      },
      "execution_count": null,
      "outputs": []
    },
    {
      "cell_type": "code",
      "source": [
        "#@title\n",
        "x.ndim #liczba wymiarów"
      ],
      "metadata": {
        "id": "QWol9g7sISuo"
      },
      "execution_count": null,
      "outputs": []
    },
    {
      "cell_type": "markdown",
      "source": [
        "# Typy danych"
      ],
      "metadata": {
        "id": "7lJBuF4EIpNP"
      }
    },
    {
      "cell_type": "code",
      "metadata": {
        "id": "MVgNvIAjc25D"
      },
      "source": [
        "#@title\n",
        "A = np.array([1, 2, 3])\n",
        "A.dtype"
      ],
      "execution_count": null,
      "outputs": []
    },
    {
      "cell_type": "code",
      "metadata": {
        "id": "B8SuNhsqc9HR"
      },
      "source": [
        "#@title\n",
        "A = np.array([1.0, 2.3, 3.3])\n",
        "A.dtype"
      ],
      "execution_count": null,
      "outputs": []
    },
    {
      "cell_type": "code",
      "metadata": {
        "id": "hWrlSHoQdBro"
      },
      "source": [
        "#@title\n",
        "A = np.array([1, 2, 3], dtype='float')\n",
        "A.dtype"
      ],
      "execution_count": null,
      "outputs": []
    },
    {
      "cell_type": "code",
      "metadata": {
        "id": "siqWSzt0dK8x"
      },
      "source": [
        "#@title\n",
        "A = np.array([1, 2, 3], dtype='complex') #complex - typ złożony\n",
        "A.dtype"
      ],
      "execution_count": null,
      "outputs": []
    },
    {
      "cell_type": "code",
      "source": [
        "#@title\n",
        "A"
      ],
      "metadata": {
        "id": "ncCN3ySUJVLR"
      },
      "execution_count": null,
      "outputs": []
    },
    {
      "cell_type": "code",
      "metadata": {
        "id": "i59_D14kdRFg"
      },
      "source": [
        "#@title\n",
        "A = np.array([1.0, 2.7, 3.3], dtype='int')\n",
        "A.dtype"
      ],
      "execution_count": null,
      "outputs": []
    },
    {
      "cell_type": "code",
      "metadata": {
        "id": "yXJOQ7XvdYwV"
      },
      "source": [
        "#@title\n",
        "A"
      ],
      "execution_count": null,
      "outputs": []
    },
    {
      "cell_type": "code",
      "metadata": {
        "id": "7BDEXkhudgZY"
      },
      "source": [
        "#@title\n",
        "A = np.array([True, False])\n",
        "A.dtype"
      ],
      "execution_count": null,
      "outputs": []
    },
    {
      "cell_type": "code",
      "metadata": {
        "id": "tDvP-Vyjdn2Y"
      },
      "source": [
        "#@title\n",
        "A = np.array([24, 120, 230], dtype=np.int8)\n",
        "A.dtype"
      ],
      "execution_count": null,
      "outputs": []
    },
    {
      "cell_type": "code",
      "metadata": {
        "id": "YTXFNQq_d0NB"
      },
      "source": [
        "#@title\n",
        "A = np.array([24, 120, 230], dtype=np.uint8)\n",
        "A.dtype"
      ],
      "execution_count": null,
      "outputs": []
    },
    {
      "cell_type": "markdown",
      "source": [
        "#Tworzenie tablic"
      ],
      "metadata": {
        "id": "jFVvxQ0iKuel"
      }
    },
    {
      "cell_type": "code",
      "source": [
        "#@title\n",
        "#tworzenie tablic zbudowaną z samych zer\n",
        "\n",
        "x = np.zeros(shape = (4, 10)) #4 wiersze, 10 kolumn\n",
        "x"
      ],
      "metadata": {
        "id": "2136-Rr0Ktmj"
      },
      "execution_count": null,
      "outputs": []
    },
    {
      "cell_type": "code",
      "source": [
        "#@title\n",
        "x.dtype"
      ],
      "metadata": {
        "id": "EeYnKj70MJzU"
      },
      "execution_count": null,
      "outputs": []
    },
    {
      "cell_type": "code",
      "source": [
        "#@title\n",
        "np.zeros(shape = (4, 10), dtype = 'int')"
      ],
      "metadata": {
        "id": "A0TuqN87MYBJ"
      },
      "execution_count": null,
      "outputs": []
    },
    {
      "cell_type": "code",
      "metadata": {
        "id": "MwL2aFmMehnj"
      },
      "source": [
        "#@title\n",
        "np.ones(shape=(5, 5))"
      ],
      "execution_count": null,
      "outputs": []
    },
    {
      "cell_type": "code",
      "metadata": {
        "id": "NZC3pCTgeuK8"
      },
      "source": [
        "#@title\n",
        "np.ones(shape=(5, 5), dtype='int')"
      ],
      "execution_count": null,
      "outputs": []
    },
    {
      "cell_type": "code",
      "source": [
        "#@title\n",
        "np.full(shape = (3, 3), fill_value= 4, dtype = 'int')"
      ],
      "metadata": {
        "id": "HutCuU4AMupb"
      },
      "execution_count": null,
      "outputs": []
    },
    {
      "cell_type": "code",
      "source": [
        "#@title\n",
        "np.arange(10)"
      ],
      "metadata": {
        "id": "D8wfKCdFNI4y"
      },
      "execution_count": null,
      "outputs": []
    },
    {
      "cell_type": "code",
      "source": [
        "#@title\n",
        "np.arange(start =5, stop = 10)"
      ],
      "metadata": {
        "id": "R4YHn14yNJAL"
      },
      "execution_count": null,
      "outputs": []
    },
    {
      "cell_type": "code",
      "source": [
        "#@title\n",
        "np.arange(start = 10, stop = 100, step = 10)"
      ],
      "metadata": {
        "id": "yoO_2iKYNJC4"
      },
      "execution_count": null,
      "outputs": []
    },
    {
      "cell_type": "code",
      "source": [
        "#@title\n",
        "np.arange(start = 100, stop = 10, step = -10)"
      ],
      "metadata": {
        "id": "d8hVqkJYNJFt"
      },
      "execution_count": null,
      "outputs": []
    },
    {
      "cell_type": "code",
      "source": [
        "#@title\n",
        "np.arange(start = 0, stop = 1, step = 0.05)"
      ],
      "metadata": {
        "id": "FWh-GMb5Nn6S"
      },
      "execution_count": null,
      "outputs": []
    },
    {
      "cell_type": "code",
      "source": [
        "#@title\n",
        "np.linspace(start = 0, stop = 1, num = 11) #num - liczba elementów zwracanymch z wektorze"
      ],
      "metadata": {
        "id": "pZfG35FANn85"
      },
      "execution_count": null,
      "outputs": []
    },
    {
      "cell_type": "code",
      "source": [
        "#@title\n",
        "#generowanie 15 elementów\n",
        "A = np.arange(15)\n",
        "A"
      ],
      "metadata": {
        "id": "2Y0G8K6CNn_X"
      },
      "execution_count": null,
      "outputs": []
    },
    {
      "cell_type": "code",
      "source": [
        "#@title\n",
        "#zmiana rozmiaru danych\n",
        "A.reshape((3, 5))"
      ],
      "metadata": {
        "id": "wG9Csy4RNoCT"
      },
      "execution_count": null,
      "outputs": []
    },
    {
      "cell_type": "code",
      "source": [
        "#@title\n",
        "#wykrywanie wymiaru - jako jeden element z wymiaru wpisujemy '-1', dobierany automatycznie\n",
        "A.reshape((3, -1))"
      ],
      "metadata": {
        "id": "1OHIMbRmNoEg"
      },
      "execution_count": null,
      "outputs": []
    },
    {
      "cell_type": "code",
      "source": [
        "#@title\n",
        "A.reshape((-1, 3))"
      ],
      "metadata": {
        "id": "UP09pncZNoHH"
      },
      "execution_count": null,
      "outputs": []
    },
    {
      "cell_type": "markdown",
      "source": [
        "#Podstawowe operacje na tablicach"
      ],
      "metadata": {
        "id": "44-HXA_iPZts"
      }
    },
    {
      "cell_type": "code",
      "metadata": {
        "id": "K95rVbtvpGMG"
      },
      "source": [
        "#@title\n",
        "A = np.array([3, 1, 4, 2])\n",
        "B = np.array([3, -1, 3, 2])\n",
        "print(A)\n",
        "print(B)"
      ],
      "execution_count": null,
      "outputs": []
    },
    {
      "cell_type": "code",
      "metadata": {
        "id": "bYFJjd6vpQHL"
      },
      "source": [
        "#@title\n",
        "#dodawanie\n",
        "A + B"
      ],
      "execution_count": null,
      "outputs": []
    },
    {
      "cell_type": "code",
      "source": [
        "#@title\n",
        "#dodawanie v2\n",
        "np.add(A, B)\n"
      ],
      "metadata": {
        "id": "bBxPYopUQrgu"
      },
      "execution_count": null,
      "outputs": []
    },
    {
      "cell_type": "code",
      "metadata": {
        "id": "Z5_EnHIwpX-J"
      },
      "source": [
        "#@title\n",
        "#odejmowanie\n",
        "A - B"
      ],
      "execution_count": null,
      "outputs": []
    },
    {
      "cell_type": "code",
      "source": [
        "#@title\n",
        "#odejmowanie v2\n",
        "np.subtract (A, B)"
      ],
      "metadata": {
        "id": "SrX4kZgsQwAH"
      },
      "execution_count": null,
      "outputs": []
    },
    {
      "cell_type": "code",
      "metadata": {
        "id": "rsnfzhUKpZ4X"
      },
      "source": [
        "#@title\n",
        "#mnożenie\n",
        "A * B"
      ],
      "execution_count": null,
      "outputs": []
    },
    {
      "cell_type": "code",
      "source": [
        "#@title\n",
        "#mnożenie v2\n",
        "np.multiply(A, B)"
      ],
      "metadata": {
        "id": "tnXl0wVrRc4R"
      },
      "execution_count": null,
      "outputs": []
    },
    {
      "cell_type": "code",
      "metadata": {
        "id": "0oJLApSVpdt-"
      },
      "source": [
        "#@title\n",
        "#dzielenie\n",
        "A / B"
      ],
      "execution_count": null,
      "outputs": []
    },
    {
      "cell_type": "code",
      "source": [
        "#@title\n",
        "#dzielenie v2\n",
        "np.divide(A, B)"
      ],
      "metadata": {
        "id": "oSn0zYJlRg8e"
      },
      "execution_count": null,
      "outputs": []
    },
    {
      "cell_type": "code",
      "source": [
        "#@title\n",
        "#dodawanie 3 do każdego elementu\n",
        "A + 3"
      ],
      "metadata": {
        "id": "0SwGC47GNoJo"
      },
      "execution_count": null,
      "outputs": []
    },
    {
      "cell_type": "markdown",
      "source": [
        "## Mnożenie macierzowe\n",
        "\n",
        "Należy zapamiętać, że mnożenie macierzowe nie jest przemienne !!!"
      ],
      "metadata": {
        "id": "D-wZjzuESJT2"
      }
    },
    {
      "cell_type": "code",
      "source": [
        "#@title\n",
        "X = np.array([[1, 3], [-2, 0]])\n",
        "Y = np.array([[6, 0], [-1, 2]])\n",
        "print(X, '\\n')\n",
        "print(Y)"
      ],
      "metadata": {
        "id": "IaNvJDc0QjZo"
      },
      "execution_count": null,
      "outputs": []
    },
    {
      "cell_type": "code",
      "source": [
        "#@title\n",
        "# mnożenie macierzowe v1\n",
        "np.dot(X,Y)"
      ],
      "metadata": {
        "id": "a56CgwIWQjhQ"
      },
      "execution_count": null,
      "outputs": []
    },
    {
      "cell_type": "code",
      "source": [
        "#@title\n",
        "# mnożenie macierzowe v2\n",
        "X.dot(Y)"
      ],
      "metadata": {
        "id": "4Ejj1EL7QjlL"
      },
      "execution_count": null,
      "outputs": []
    },
    {
      "cell_type": "code",
      "source": [
        "#@title\n",
        "# mnożenie macierzowe v3\n",
        "# j.w w tytule - NIE JEST PRZEMIENNE !\n",
        "Y.dot(X)"
      ],
      "metadata": {
        "id": "2RXQPvlWQjoC"
      },
      "execution_count": null,
      "outputs": []
    },
    {
      "cell_type": "code",
      "source": [
        "#@title\n",
        "# mnożenie macierzowe v4\n",
        "X @ Y"
      ],
      "metadata": {
        "id": "u1woOtrDQjqq"
      },
      "execution_count": null,
      "outputs": []
    },
    {
      "cell_type": "markdown",
      "source": [
        "#Generowanie liczb pseudolosowych"
      ],
      "metadata": {
        "id": "F1oGCpbnbae0"
      }
    },
    {
      "cell_type": "code",
      "metadata": {
        "id": "RNe18NQvsgAX"
      },
      "source": [
        "#@title\n",
        "np.random.seed(0)"
      ],
      "execution_count": null,
      "outputs": []
    },
    {
      "cell_type": "code",
      "metadata": {
        "id": "Jj0FPV3FsoId"
      },
      "source": [
        "#@title\n",
        "#losowa wartość z rozkładu normalnego\n",
        "np.random.randn()"
      ],
      "execution_count": null,
      "outputs": []
    },
    {
      "cell_type": "code",
      "metadata": {
        "id": "TT49RSTuswVs"
      },
      "source": [
        "#@title\n",
        "#tablica z 10 losowo wygenerowanymi liczbami z rozkładu normalnego\n",
        "np.random.randn(10)"
      ],
      "execution_count": null,
      "outputs": []
    },
    {
      "cell_type": "code",
      "metadata": {
        "id": "vfe9lZ2gs1Zy"
      },
      "source": [
        "#@title\n",
        "#tablica z liczbami z rozkładu normalnego jako macierz 10 na 4 (10x4)\n",
        "np.random.randn(10, 4)"
      ],
      "execution_count": null,
      "outputs": []
    },
    {
      "cell_type": "code",
      "metadata": {
        "id": "uwXIejqEtAII"
      },
      "source": [
        "#@title\n",
        "#wartośc losowa z przedziału (0,1)\n",
        "np.random.rand()"
      ],
      "execution_count": null,
      "outputs": []
    },
    {
      "cell_type": "code",
      "metadata": {
        "id": "tt_585MMtF4G"
      },
      "source": [
        "#@title\n",
        "# 10 wartości losowych z przedziału (0,1)\n",
        "np.random.rand(10)"
      ],
      "execution_count": null,
      "outputs": []
    },
    {
      "cell_type": "code",
      "metadata": {
        "id": "Fu70LlibtHme"
      },
      "source": [
        "#@title\n",
        "#tablica z liczbami z rozkładu losowego z przedziału (0,1) jako macierz 10 na 2 (10x2)\n",
        "np.random.rand(10, 2)"
      ],
      "execution_count": null,
      "outputs": []
    },
    {
      "cell_type": "code",
      "metadata": {
        "id": "rI7_KQXQtLHJ"
      },
      "source": [
        "#@title\n",
        "#losowa liczba z przedziału od 0 do 10 (z wyłączniem 10)\n",
        "np.random.randint(10)"
      ],
      "execution_count": null,
      "outputs": []
    },
    {
      "cell_type": "code",
      "metadata": {
        "id": "ddLkf7LYtSiD"
      },
      "source": [
        "#@title\n",
        "np.random.randint(low=10, high=101)"
      ],
      "execution_count": null,
      "outputs": []
    },
    {
      "cell_type": "code",
      "metadata": {
        "id": "cQAjDJ6ktY1B"
      },
      "source": [
        "#@title\n",
        "# 10 liczb z określonego przedziału\n",
        "np.random.randint(low=10, high=101, size=10)"
      ],
      "execution_count": null,
      "outputs": []
    },
    {
      "cell_type": "code",
      "metadata": {
        "id": "lDhuLIMJteqR"
      },
      "source": [
        "#@title\n",
        "#losowy element z listy podanej\n",
        "np.random.choice([4, 2, 1, 3, 5])"
      ],
      "execution_count": null,
      "outputs": []
    },
    {
      "cell_type": "code",
      "metadata": {
        "id": "Zo97o5e5toIk"
      },
      "source": [
        "#@title\n",
        "np.random.choice(['python', 'java', 'sql'])"
      ],
      "execution_count": null,
      "outputs": []
    },
    {
      "cell_type": "code",
      "metadata": {
        "id": "V_7pdPoStv51"
      },
      "source": [
        "#@title\n",
        "# liczby od 0 do 10 jako zmienna (bez 10)\n",
        "data = np.arange(10)\n",
        "data"
      ],
      "execution_count": null,
      "outputs": []
    },
    {
      "cell_type": "code",
      "metadata": {
        "id": "uGhf7jkHt1HT"
      },
      "source": [
        "#@title\n",
        "#z tasowaniem - shuffle\n",
        "np.random.shuffle(data)"
      ],
      "execution_count": null,
      "outputs": []
    },
    {
      "cell_type": "code",
      "metadata": {
        "id": "7dtnQW5ut7Wk"
      },
      "source": [
        "#@title\n",
        "data"
      ],
      "execution_count": null,
      "outputs": []
    },
    {
      "cell_type": "markdown",
      "metadata": {
        "id": "p-kIfyzu-vaD"
      },
      "source": [
        "#Podstawowe funkcje"
      ]
    },
    {
      "cell_type": "code",
      "metadata": {
        "id": "woTpWmBOvAlx"
      },
      "source": [
        "#@title\n",
        "np.exp(1)"
      ],
      "execution_count": null,
      "outputs": []
    },
    {
      "cell_type": "code",
      "metadata": {
        "id": "QZyUMWJpvE4a"
      },
      "source": [
        "#@title\n",
        "#pierwiastek kwadratowy\n",
        "np.sqrt(9)"
      ],
      "execution_count": null,
      "outputs": []
    },
    {
      "cell_type": "code",
      "metadata": {
        "id": "uIznDYvLvMUD"
      },
      "source": [
        "#@title\n",
        "#sprawdza, czy każda wartość w liście zwraca wartość logiczną\n",
        "np.all([2, 3, 1])"
      ],
      "execution_count": null,
      "outputs": []
    },
    {
      "cell_type": "code",
      "metadata": {
        "id": "g6HbZViyvZc3"
      },
      "source": [
        "#@title\n",
        "# sprawdza czy jakikolwiek obiekt jest True \n",
        "np.any([0, 0, 0])"
      ],
      "execution_count": null,
      "outputs": []
    },
    {
      "cell_type": "code",
      "metadata": {
        "id": "VnsPajVZvkUN"
      },
      "source": [
        "#@title\n",
        "bool(1.3)"
      ],
      "execution_count": null,
      "outputs": []
    },
    {
      "cell_type": "code",
      "metadata": {
        "id": "fivP8kXCvqJu"
      },
      "source": [
        "#@title\n",
        "A = np.random.rand(5)\n",
        "A"
      ],
      "execution_count": null,
      "outputs": []
    },
    {
      "cell_type": "code",
      "metadata": {
        "id": "43jhuo1uv1Bk"
      },
      "source": [
        "#@title\n",
        "#zwrócenie najwiekszego indeksu z listy A\n",
        "np.argmax(A)"
      ],
      "execution_count": null,
      "outputs": []
    },
    {
      "cell_type": "code",
      "metadata": {
        "id": "beN7srqwv_P0"
      },
      "source": [
        "#@title\n",
        "#wycięcie największego elementu\n",
        "A[np.argmax(A)]"
      ],
      "execution_count": null,
      "outputs": []
    },
    {
      "cell_type": "code",
      "metadata": {
        "id": "qvSdOhkowFIf"
      },
      "source": [
        "#@title\n",
        "#zwrócenie najmniejszego indeksu z listy A\n",
        "np.argmin(A)"
      ],
      "execution_count": null,
      "outputs": []
    },
    {
      "cell_type": "code",
      "metadata": {
        "id": "4dToN4oKwJ5a"
      },
      "source": [
        "#@title\n",
        "#sortowanie naszej listy po indeksach w odniesieniu do wartości\n",
        "np.argsort(A)"
      ],
      "execution_count": null,
      "outputs": []
    },
    {
      "cell_type": "code",
      "metadata": {
        "id": "gTGuNHQawWzW"
      },
      "source": [
        "#@title\n",
        "np.max(A)"
      ],
      "execution_count": null,
      "outputs": []
    },
    {
      "cell_type": "code",
      "metadata": {
        "id": "Z51pdnVrwZZu"
      },
      "source": [
        "#@title\n",
        "np.min(A)"
      ],
      "execution_count": null,
      "outputs": []
    },
    {
      "cell_type": "code",
      "metadata": {
        "id": "Mp4unYekwbuK"
      },
      "source": [
        "#@title\n",
        "np.mean(A)"
      ],
      "execution_count": null,
      "outputs": []
    },
    {
      "cell_type": "code",
      "metadata": {
        "id": "Yj8kdjjBweFR"
      },
      "source": [
        "#@title\n",
        "np.median(A)"
      ],
      "execution_count": null,
      "outputs": []
    },
    {
      "cell_type": "code",
      "metadata": {
        "id": "h7pdm7HZwgA6"
      },
      "source": [
        "#@title\n",
        "#odchylenie standardowe\n",
        "np.std(A)"
      ],
      "execution_count": null,
      "outputs": []
    },
    {
      "cell_type": "markdown",
      "source": [
        "# Indeksowanie i wycinanie tablic"
      ],
      "metadata": {
        "id": "yiWAWw3Whh-v"
      }
    },
    {
      "cell_type": "code",
      "metadata": {
        "id": "nlGO7ztFxX8W"
      },
      "source": [
        "A = np.arange(20)\n",
        "A"
      ],
      "execution_count": null,
      "outputs": []
    },
    {
      "cell_type": "code",
      "metadata": {
        "id": "NKSqSA5ixcbK"
      },
      "source": [
        "# A[idx], A[start:stop], A[:stop], A[start:]"
      ],
      "execution_count": null,
      "outputs": []
    },
    {
      "cell_type": "code",
      "metadata": {
        "id": "SCLrtABgxsRC"
      },
      "source": [
        "A[2]"
      ],
      "execution_count": null,
      "outputs": []
    },
    {
      "cell_type": "code",
      "metadata": {
        "id": "VN82-Mmtxvhc"
      },
      "source": [
        "A[2:]"
      ],
      "execution_count": null,
      "outputs": []
    },
    {
      "cell_type": "code",
      "metadata": {
        "id": "Hs7J43_3xykJ"
      },
      "source": [
        "A[:2]"
      ],
      "execution_count": null,
      "outputs": []
    },
    {
      "cell_type": "code",
      "metadata": {
        "id": "VYH2BRDkx2Fs"
      },
      "source": [
        "A[[0, 2]]"
      ],
      "execution_count": null,
      "outputs": []
    },
    {
      "cell_type": "code",
      "metadata": {
        "id": "TmHYX_Rnx6Nr"
      },
      "source": [
        "A[-1] #indeksowanie od końca"
      ],
      "execution_count": null,
      "outputs": []
    },
    {
      "cell_type": "code",
      "metadata": {
        "id": "FDJ6Skm8x89z"
      },
      "source": [
        "A[10:15]"
      ],
      "execution_count": null,
      "outputs": []
    },
    {
      "cell_type": "code",
      "metadata": {
        "id": "K5sDbg62yBzS"
      },
      "source": [
        "A = A.reshape(4, 5)\n",
        "A"
      ],
      "execution_count": null,
      "outputs": []
    },
    {
      "cell_type": "code",
      "metadata": {
        "id": "kspvnoRpyIC6"
      },
      "source": [
        "A[1:3, 1:4]"
      ],
      "execution_count": null,
      "outputs": []
    },
    {
      "cell_type": "code",
      "metadata": {
        "id": "zhWuxbFFyqNp"
      },
      "source": [
        "#zmiana elementu o określonych współrzędnych na inny element\n",
        "A[1, 2] = 14\n",
        "A"
      ],
      "execution_count": null,
      "outputs": []
    },
    {
      "cell_type": "markdown",
      "source": [
        "# Iteracja po tablicach"
      ],
      "metadata": {
        "id": "c7G-M7xHkAig"
      }
    },
    {
      "cell_type": "code",
      "source": [
        "A"
      ],
      "metadata": {
        "id": "KQJaW90lkELa"
      },
      "execution_count": null,
      "outputs": []
    },
    {
      "cell_type": "code",
      "source": [
        "#iteracja po wierszu\n",
        "for row in A:\n",
        "    print(row)"
      ],
      "metadata": {
        "id": "Z5c0IcoTkHjJ"
      },
      "execution_count": null,
      "outputs": []
    },
    {
      "cell_type": "code",
      "source": [
        "\n",
        "#iteracja po kolumnie\n",
        "for row in A:\n",
        "    print(row[:3])"
      ],
      "metadata": {
        "id": "atvnRfaskODZ"
      },
      "execution_count": null,
      "outputs": []
    },
    {
      "cell_type": "code",
      "source": [
        "#iteracja po każdym elemencie\n",
        "for item in A.flat:\n",
        "    print(item)"
      ],
      "metadata": {
        "id": "vr0JPA96kjMN"
      },
      "execution_count": null,
      "outputs": []
    },
    {
      "cell_type": "markdown",
      "source": [
        "#Zmiana rozmiaru tablic"
      ],
      "metadata": {
        "id": "M6ORSKFMk0fx"
      }
    },
    {
      "cell_type": "code",
      "source": [
        "A"
      ],
      "metadata": {
        "id": "UwZmImOIky0g"
      },
      "execution_count": null,
      "outputs": []
    },
    {
      "cell_type": "code",
      "source": [
        "A.shape"
      ],
      "metadata": {
        "id": "sF3O-LJyk2fX"
      },
      "execution_count": null,
      "outputs": []
    },
    {
      "cell_type": "code",
      "source": [
        "A = A.reshape(5, 4)\n",
        "A"
      ],
      "metadata": {
        "id": "rmFVUI_nk6t6"
      },
      "execution_count": null,
      "outputs": []
    },
    {
      "cell_type": "code",
      "source": [
        "#wypłaszczanie danych z tablicy\n",
        "A.ravel()"
      ],
      "metadata": {
        "id": "zYG9RTOWlHuJ"
      },
      "execution_count": null,
      "outputs": []
    },
    {
      "cell_type": "code",
      "source": [
        "#transponowanie tablicy\n",
        "A.T"
      ],
      "metadata": {
        "id": "ePPZaMhllVyh"
      },
      "execution_count": null,
      "outputs": []
    },
    {
      "cell_type": "markdown",
      "source": [
        "#Maski logiczne"
      ],
      "metadata": {
        "id": "RNywP7eXlh7A"
      }
    },
    {
      "cell_type": "code",
      "source": [
        "A = np.arange(start=-10, stop=10, step=0.5)\n",
        "A = A.reshape(10, -1)\n",
        "A"
      ],
      "metadata": {
        "id": "PphgWOfoljlG"
      },
      "execution_count": null,
      "outputs": []
    },
    {
      "cell_type": "code",
      "source": [
        "A > 0"
      ],
      "metadata": {
        "id": "g1KfLgsimIT2"
      },
      "execution_count": null,
      "outputs": []
    },
    {
      "cell_type": "code",
      "source": [
        "#zwracanie wartości spełniających warunek\n",
        "A[A > 0]"
      ],
      "metadata": {
        "id": "pn8Wjs02mKa3"
      },
      "execution_count": null,
      "outputs": []
    },
    {
      "cell_type": "code",
      "source": [
        "#wartości spełniające warunek z przedziału w tablicy\n",
        "np.bitwise_and(A > -5, A < 5)"
      ],
      "metadata": {
        "id": "jBSZSrrPmLj0"
      },
      "execution_count": null,
      "outputs": []
    },
    {
      "cell_type": "code",
      "source": [
        "np.bitwise_or(A < -5, A > 5)"
      ],
      "metadata": {
        "id": "J9ly7PkFnM10"
      },
      "execution_count": null,
      "outputs": []
    },
    {
      "cell_type": "code",
      "source": [
        "#wartości spełniające warunek\n",
        "A[np.bitwise_and(A > -5, A < 5)]"
      ],
      "metadata": {
        "colab": {
          "base_uri": "https://localhost:8080/"
        },
        "id": "XVUPN7Pvmm7w",
        "outputId": "c1e650f6-c59a-4d95-aeac-af51dc9e1dc7"
      },
      "execution_count": 279,
      "outputs": [
        {
          "output_type": "execute_result",
          "data": {
            "text/plain": [
              "array([-4.5, -4. , -3.5, -3. , -2.5, -2. , -1.5, -1. , -0.5,  0. ,  0.5,\n",
              "        1. ,  1.5,  2. ,  2.5,  3. ,  3.5,  4. ,  4.5])"
            ]
          },
          "metadata": {},
          "execution_count": 279
        }
      ]
    }
  ]
}