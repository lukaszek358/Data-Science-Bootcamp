{
  "nbformat": 4,
  "nbformat_minor": 0,
  "metadata": {
    "colab": {
      "provenance": [],
      "toc_visible": true,
      "authorship_tag": "ABX9TyNBgOAM76btOy5P+1FhYVhy",
      "include_colab_link": true
    },
    "kernelspec": {
      "name": "python3",
      "display_name": "Python 3"
    },
    "language_info": {
      "name": "python"
    }
  },
  "cells": [
    {
      "cell_type": "markdown",
      "metadata": {
        "id": "view-in-github",
        "colab_type": "text"
      },
      "source": [
        "<a href=\"https://colab.research.google.com/github/lukaszek358/Data-Science-Bootcamp/blob/main/5_Uczenie%20Maszynowe%3A%20Scikit-learn/3_Data_Science_Bootcamp_w_j%C4%99zyku_Python_od_A_do_Z_Uczenie_maszynowe_Regresja_metody_oceny_modelu_.ipynb\" target=\"_parent\"><img src=\"https://colab.research.google.com/assets/colab-badge.svg\" alt=\"Open In Colab\"/></a>"
      ]
    },
    {
      "cell_type": "markdown",
      "source": [
        "#Scikit-learn\n",
        ">Strona biblioteki: [https://scikit-learn.org](https://scikit-learn.org)  \n",
        ">\n",
        ">Dokumentacja/User Guide: [https://scikit-learn.org/stable/user_guide.html](https://scikit-learn.org/stable/user_guide.html)\n",
        ">\n",
        ">Podstawowa biblioteka do uczenia maszynowego w języku Python.\n",
        ">\n",
        ">Aby zainstalować bibliotekę scikit-learn, użyj polecenia poniżej:\n",
        "```\n",
        "pip install scikit-learn\n",
        "```"
      ],
      "metadata": {
        "id": "BPKo371cgHP2"
      }
    },
    {
      "cell_type": "markdown",
      "source": [
        "#Import bibliotek"
      ],
      "metadata": {
        "id": "t830ZfoQgsHS"
      }
    },
    {
      "cell_type": "code",
      "source": [
        "import numpy as np\n",
        "import pandas as pd\n",
        "import plotly.express as px\n",
        "import plotly.graph_objects as go"
      ],
      "metadata": {
        "id": "IXPTZZp9gK94"
      },
      "execution_count": null,
      "outputs": []
    },
    {
      "cell_type": "markdown",
      "source": [
        "#Generowanie danych testowych do modelu"
      ],
      "metadata": {
        "id": "Fit0duJ3g6y5"
      }
    },
    {
      "cell_type": "code",
      "source": [
        "y_true = 100 + 20 * np.random.randn(50)\n",
        "y_true"
      ],
      "metadata": {
        "colab": {
          "base_uri": "https://localhost:8080/"
        },
        "id": "JsGBE7jqgLBC",
        "outputId": "e15ddf83-fa85-4d84-9ff5-270bc43b6f57"
      },
      "execution_count": null,
      "outputs": [
        {
          "output_type": "execute_result",
          "data": {
            "text/plain": [
              "array([ 81.69270842, 125.16871212,  81.5073526 ,  93.12090752,\n",
              "        90.54493089, 107.8689777 ,  83.04119797,  72.42284441,\n",
              "       103.4724945 ,  74.32877364, 121.73792465, 100.02749783,\n",
              "       121.94018964, 124.47494161,  89.64311224, 139.93356501,\n",
              "       129.37905184, 142.52816231,  95.30616826,  83.00007047,\n",
              "        81.36758044, 111.09372128, 107.7876471 , 128.61118911,\n",
              "        96.72712153, 104.57611422,  95.96360612,  73.07952711,\n",
              "        82.05889979, 101.96403145,  78.1985325 ,  96.81301554,\n",
              "       127.38810971,  87.44600075, 113.08198422, 123.78801887,\n",
              "       108.01119974,  97.8556578 ,  94.76743934, 104.73242899,\n",
              "        75.33395665,  97.57481734, 112.61293925, 111.21165235,\n",
              "        91.61578774, 108.68928441,  87.35391672,  68.04599143,\n",
              "       150.91592695, 160.67338842])"
            ]
          },
          "metadata": {},
          "execution_count": 2
        }
      ]
    },
    {
      "cell_type": "code",
      "source": [
        "y_pred = y_true + 10 * np.random.randn(50)\n",
        "y_pred"
      ],
      "metadata": {
        "colab": {
          "base_uri": "https://localhost:8080/"
        },
        "id": "qJkVp9rvgLER",
        "outputId": "2c684cea-32a2-40cc-bcd8-c21dc47b59be"
      },
      "execution_count": null,
      "outputs": [
        {
          "output_type": "execute_result",
          "data": {
            "text/plain": [
              "array([ 68.7130543 , 130.04201992,  80.36335575,  87.40110849,\n",
              "       108.67842874, 104.82977795,  95.27994011,  73.70555011,\n",
              "       108.54698234,  66.23227844, 117.72982283, 108.59100922,\n",
              "       126.07787451, 111.39843864,  88.6014586 , 129.46561585,\n",
              "       126.15692728, 139.83366856,  90.58364106,  74.65845562,\n",
              "        70.83602983, 118.49112038, 105.08629233, 133.80061607,\n",
              "        89.86132011, 109.1051096 , 102.07259881,  55.03446338,\n",
              "        80.63579045,  93.36316645,  67.43671192, 117.00013239,\n",
              "       117.86092702,  87.13992594, 132.41930285, 124.36920275,\n",
              "       126.03194321, 106.11093648,  99.7993989 , 110.44487035,\n",
              "        74.11305527, 101.24395704, 110.95290665,  94.5236246 ,\n",
              "        89.68817604,  94.22798518,  78.05237479,  68.25280426,\n",
              "       164.02161926, 163.96215536])"
            ]
          },
          "metadata": {},
          "execution_count": 3
        }
      ]
    },
    {
      "cell_type": "markdown",
      "source": [
        "Wrzucamy nasze dane do DataFrame'u (ramki danych)"
      ],
      "metadata": {
        "id": "dGZKzuN8hlre"
      }
    },
    {
      "cell_type": "code",
      "execution_count": null,
      "metadata": {
        "colab": {
          "base_uri": "https://localhost:8080/",
          "height": 677
        },
        "id": "Eqs6tqCYfbi4",
        "outputId": "5d83e599-cab1-4242-e39d-4794f9ea50b5"
      },
      "outputs": [
        {
          "output_type": "execute_result",
          "data": {
            "text/plain": [
              "        y_true      y_pred\n",
              "0    81.692708   68.713054\n",
              "1   125.168712  130.042020\n",
              "2    81.507353   80.363356\n",
              "3    93.120908   87.401108\n",
              "4    90.544931  108.678429\n",
              "5   107.868978  104.829778\n",
              "6    83.041198   95.279940\n",
              "7    72.422844   73.705550\n",
              "8   103.472494  108.546982\n",
              "9    74.328774   66.232278\n",
              "10  121.737925  117.729823\n",
              "11  100.027498  108.591009\n",
              "12  121.940190  126.077875\n",
              "13  124.474942  111.398439\n",
              "14   89.643112   88.601459\n",
              "15  139.933565  129.465616\n",
              "16  129.379052  126.156927\n",
              "17  142.528162  139.833669\n",
              "18   95.306168   90.583641\n",
              "19   83.000070   74.658456"
            ],
            "text/html": [
              "\n",
              "  <div id=\"df-a89127aa-7f5f-415e-a77c-ed607c16ed89\">\n",
              "    <div class=\"colab-df-container\">\n",
              "      <div>\n",
              "<style scoped>\n",
              "    .dataframe tbody tr th:only-of-type {\n",
              "        vertical-align: middle;\n",
              "    }\n",
              "\n",
              "    .dataframe tbody tr th {\n",
              "        vertical-align: top;\n",
              "    }\n",
              "\n",
              "    .dataframe thead th {\n",
              "        text-align: right;\n",
              "    }\n",
              "</style>\n",
              "<table border=\"1\" class=\"dataframe\">\n",
              "  <thead>\n",
              "    <tr style=\"text-align: right;\">\n",
              "      <th></th>\n",
              "      <th>y_true</th>\n",
              "      <th>y_pred</th>\n",
              "    </tr>\n",
              "  </thead>\n",
              "  <tbody>\n",
              "    <tr>\n",
              "      <th>0</th>\n",
              "      <td>81.692708</td>\n",
              "      <td>68.713054</td>\n",
              "    </tr>\n",
              "    <tr>\n",
              "      <th>1</th>\n",
              "      <td>125.168712</td>\n",
              "      <td>130.042020</td>\n",
              "    </tr>\n",
              "    <tr>\n",
              "      <th>2</th>\n",
              "      <td>81.507353</td>\n",
              "      <td>80.363356</td>\n",
              "    </tr>\n",
              "    <tr>\n",
              "      <th>3</th>\n",
              "      <td>93.120908</td>\n",
              "      <td>87.401108</td>\n",
              "    </tr>\n",
              "    <tr>\n",
              "      <th>4</th>\n",
              "      <td>90.544931</td>\n",
              "      <td>108.678429</td>\n",
              "    </tr>\n",
              "    <tr>\n",
              "      <th>5</th>\n",
              "      <td>107.868978</td>\n",
              "      <td>104.829778</td>\n",
              "    </tr>\n",
              "    <tr>\n",
              "      <th>6</th>\n",
              "      <td>83.041198</td>\n",
              "      <td>95.279940</td>\n",
              "    </tr>\n",
              "    <tr>\n",
              "      <th>7</th>\n",
              "      <td>72.422844</td>\n",
              "      <td>73.705550</td>\n",
              "    </tr>\n",
              "    <tr>\n",
              "      <th>8</th>\n",
              "      <td>103.472494</td>\n",
              "      <td>108.546982</td>\n",
              "    </tr>\n",
              "    <tr>\n",
              "      <th>9</th>\n",
              "      <td>74.328774</td>\n",
              "      <td>66.232278</td>\n",
              "    </tr>\n",
              "    <tr>\n",
              "      <th>10</th>\n",
              "      <td>121.737925</td>\n",
              "      <td>117.729823</td>\n",
              "    </tr>\n",
              "    <tr>\n",
              "      <th>11</th>\n",
              "      <td>100.027498</td>\n",
              "      <td>108.591009</td>\n",
              "    </tr>\n",
              "    <tr>\n",
              "      <th>12</th>\n",
              "      <td>121.940190</td>\n",
              "      <td>126.077875</td>\n",
              "    </tr>\n",
              "    <tr>\n",
              "      <th>13</th>\n",
              "      <td>124.474942</td>\n",
              "      <td>111.398439</td>\n",
              "    </tr>\n",
              "    <tr>\n",
              "      <th>14</th>\n",
              "      <td>89.643112</td>\n",
              "      <td>88.601459</td>\n",
              "    </tr>\n",
              "    <tr>\n",
              "      <th>15</th>\n",
              "      <td>139.933565</td>\n",
              "      <td>129.465616</td>\n",
              "    </tr>\n",
              "    <tr>\n",
              "      <th>16</th>\n",
              "      <td>129.379052</td>\n",
              "      <td>126.156927</td>\n",
              "    </tr>\n",
              "    <tr>\n",
              "      <th>17</th>\n",
              "      <td>142.528162</td>\n",
              "      <td>139.833669</td>\n",
              "    </tr>\n",
              "    <tr>\n",
              "      <th>18</th>\n",
              "      <td>95.306168</td>\n",
              "      <td>90.583641</td>\n",
              "    </tr>\n",
              "    <tr>\n",
              "      <th>19</th>\n",
              "      <td>83.000070</td>\n",
              "      <td>74.658456</td>\n",
              "    </tr>\n",
              "  </tbody>\n",
              "</table>\n",
              "</div>\n",
              "      <button class=\"colab-df-convert\" onclick=\"convertToInteractive('df-a89127aa-7f5f-415e-a77c-ed607c16ed89')\"\n",
              "              title=\"Convert this dataframe to an interactive table.\"\n",
              "              style=\"display:none;\">\n",
              "        \n",
              "  <svg xmlns=\"http://www.w3.org/2000/svg\" height=\"24px\"viewBox=\"0 0 24 24\"\n",
              "       width=\"24px\">\n",
              "    <path d=\"M0 0h24v24H0V0z\" fill=\"none\"/>\n",
              "    <path d=\"M18.56 5.44l.94 2.06.94-2.06 2.06-.94-2.06-.94-.94-2.06-.94 2.06-2.06.94zm-11 1L8.5 8.5l.94-2.06 2.06-.94-2.06-.94L8.5 2.5l-.94 2.06-2.06.94zm10 10l.94 2.06.94-2.06 2.06-.94-2.06-.94-.94-2.06-.94 2.06-2.06.94z\"/><path d=\"M17.41 7.96l-1.37-1.37c-.4-.4-.92-.59-1.43-.59-.52 0-1.04.2-1.43.59L10.3 9.45l-7.72 7.72c-.78.78-.78 2.05 0 2.83L4 21.41c.39.39.9.59 1.41.59.51 0 1.02-.2 1.41-.59l7.78-7.78 2.81-2.81c.8-.78.8-2.07 0-2.86zM5.41 20L4 18.59l7.72-7.72 1.47 1.35L5.41 20z\"/>\n",
              "  </svg>\n",
              "      </button>\n",
              "      \n",
              "  <style>\n",
              "    .colab-df-container {\n",
              "      display:flex;\n",
              "      flex-wrap:wrap;\n",
              "      gap: 12px;\n",
              "    }\n",
              "\n",
              "    .colab-df-convert {\n",
              "      background-color: #E8F0FE;\n",
              "      border: none;\n",
              "      border-radius: 50%;\n",
              "      cursor: pointer;\n",
              "      display: none;\n",
              "      fill: #1967D2;\n",
              "      height: 32px;\n",
              "      padding: 0 0 0 0;\n",
              "      width: 32px;\n",
              "    }\n",
              "\n",
              "    .colab-df-convert:hover {\n",
              "      background-color: #E2EBFA;\n",
              "      box-shadow: 0px 1px 2px rgba(60, 64, 67, 0.3), 0px 1px 3px 1px rgba(60, 64, 67, 0.15);\n",
              "      fill: #174EA6;\n",
              "    }\n",
              "\n",
              "    [theme=dark] .colab-df-convert {\n",
              "      background-color: #3B4455;\n",
              "      fill: #D2E3FC;\n",
              "    }\n",
              "\n",
              "    [theme=dark] .colab-df-convert:hover {\n",
              "      background-color: #434B5C;\n",
              "      box-shadow: 0px 1px 3px 1px rgba(0, 0, 0, 0.15);\n",
              "      filter: drop-shadow(0px 1px 2px rgba(0, 0, 0, 0.3));\n",
              "      fill: #FFFFFF;\n",
              "    }\n",
              "  </style>\n",
              "\n",
              "      <script>\n",
              "        const buttonEl =\n",
              "          document.querySelector('#df-a89127aa-7f5f-415e-a77c-ed607c16ed89 button.colab-df-convert');\n",
              "        buttonEl.style.display =\n",
              "          google.colab.kernel.accessAllowed ? 'block' : 'none';\n",
              "\n",
              "        async function convertToInteractive(key) {\n",
              "          const element = document.querySelector('#df-a89127aa-7f5f-415e-a77c-ed607c16ed89');\n",
              "          const dataTable =\n",
              "            await google.colab.kernel.invokeFunction('convertToInteractive',\n",
              "                                                     [key], {});\n",
              "          if (!dataTable) return;\n",
              "\n",
              "          const docLinkHtml = 'Like what you see? Visit the ' +\n",
              "            '<a target=\"_blank\" href=https://colab.research.google.com/notebooks/data_table.ipynb>data table notebook</a>'\n",
              "            + ' to learn more about interactive tables.';\n",
              "          element.innerHTML = '';\n",
              "          dataTable['output_type'] = 'display_data';\n",
              "          await google.colab.output.renderOutput(dataTable, element);\n",
              "          const docLink = document.createElement('div');\n",
              "          docLink.innerHTML = docLinkHtml;\n",
              "          element.appendChild(docLink);\n",
              "        }\n",
              "      </script>\n",
              "    </div>\n",
              "  </div>\n",
              "  "
            ]
          },
          "metadata": {},
          "execution_count": 4
        }
      ],
      "source": [
        "results = pd.DataFrame({'y_true': y_true,\n",
        "                        'y_pred': y_pred})\n",
        "results.head(20)"
      ]
    },
    {
      "cell_type": "markdown",
      "source": [
        "Dodajemy kolumnę 'error' do naszego DF jako różnicę między dwoma kolumnami (y_true - y_pred)"
      ],
      "metadata": {
        "id": "EGVnLBJahqmv"
      }
    },
    {
      "cell_type": "code",
      "source": [
        "results['error']= results['y_true'] - results['y_pred']\n",
        "print(results.head(10))\n",
        "print()\n",
        "print('Jeżeli wartość błędu > 0 to niedoszacowujemy naszych rzeczywistych wartości, natomiast gdy wartość błędu < 0 to przzeszacowujemy nasze wartości')"
      ],
      "metadata": {
        "colab": {
          "base_uri": "https://localhost:8080/"
        },
        "id": "IKa-3xWRhz8b",
        "outputId": "61a20f97-a883-48f0-f2fa-db0f4d0df0c8"
      },
      "execution_count": null,
      "outputs": [
        {
          "output_type": "stream",
          "name": "stdout",
          "text": [
            "       y_true      y_pred      error\n",
            "0   81.692708   68.713054  12.979654\n",
            "1  125.168712  130.042020  -4.873308\n",
            "2   81.507353   80.363356   1.143997\n",
            "3   93.120908   87.401108   5.719799\n",
            "4   90.544931  108.678429 -18.133498\n",
            "5  107.868978  104.829778   3.039200\n",
            "6   83.041198   95.279940 -12.238742\n",
            "7   72.422844   73.705550  -1.282706\n",
            "8  103.472494  108.546982  -5.074488\n",
            "9   74.328774   66.232278   8.096495\n",
            "\n",
            "Jeżeli wartość błędu > 0 to niedoszacowujemy naszych rzeczywistych wartości, natomiast gdy wartość błędu < 0 to przzeszacowujemy nasze wartości\n"
          ]
        }
      ]
    },
    {
      "cell_type": "code",
      "source": [
        "def plot_regression_results(y_true, y_pred):\n",
        "    results = pd.DataFrame({'y_true': y_true,\n",
        "                        'y_pred': y_pred})\n",
        "    min = results[['y_true', 'y_pred']].min().min()\n",
        "    max = results[['y_true', 'y_pred']].max().max()\n",
        "\n",
        "    fig = go.Figure(data=[go.Scatter(x=results['y_true'], y=results['y_pred'], mode='markers'),\n",
        "                    go.Scatter(x=[min, max], y=[min, max])],\n",
        "                    layout=go.Layout(showlegend=False, width=800, height=500,\n",
        "                                     xaxis_title='y_true', \n",
        "                                     yaxis_title='y_pred',\n",
        "                                     title='Regression results'))\n",
        "    fig.show()"
      ],
      "metadata": {
        "id": "0kfKIND2krRk"
      },
      "execution_count": null,
      "outputs": []
    },
    {
      "cell_type": "code",
      "source": [
        "plot_regression_results(y_true, y_pred)"
      ],
      "metadata": {
        "colab": {
          "base_uri": "https://localhost:8080/",
          "height": 517
        },
        "id": "zSkPo4b4lbfQ",
        "outputId": "b586e057-85d4-470e-aaaa-0d78d56a08a2"
      },
      "execution_count": null,
      "outputs": [
        {
          "output_type": "display_data",
          "data": {
            "text/html": [
              "<html>\n",
              "<head><meta charset=\"utf-8\" /></head>\n",
              "<body>\n",
              "    <div>            <script src=\"https://cdnjs.cloudflare.com/ajax/libs/mathjax/2.7.5/MathJax.js?config=TeX-AMS-MML_SVG\"></script><script type=\"text/javascript\">if (window.MathJax && window.MathJax.Hub && window.MathJax.Hub.Config) {window.MathJax.Hub.Config({SVG: {font: \"STIX-Web\"}});}</script>                <script type=\"text/javascript\">window.PlotlyConfig = {MathJaxConfig: 'local'};</script>\n",
              "        <script src=\"https://cdn.plot.ly/plotly-2.18.2.min.js\"></script>                <div id=\"2cb5ebf6-28bd-4262-8e06-9c339261ea77\" class=\"plotly-graph-div\" style=\"height:500px; width:800px;\"></div>            <script type=\"text/javascript\">                                    window.PLOTLYENV=window.PLOTLYENV || {};                                    if (document.getElementById(\"2cb5ebf6-28bd-4262-8e06-9c339261ea77\")) {                    Plotly.newPlot(                        \"2cb5ebf6-28bd-4262-8e06-9c339261ea77\",                        [{\"mode\":\"markers\",\"x\":[81.69270842358493,125.16871212291302,81.50735259950457,93.12090752396874,90.54493089445357,107.86897770150607,83.04119796562745,72.4228444149656,103.4724944983381,74.3287736404893,121.73792465363258,100.02749783403539,121.94018963934147,124.47494161107079,89.64311224175547,139.9335650142932,129.37905183903672,142.52816231117689,95.30616826240541,83.00007047061189,81.36758044365935,111.09372128170777,107.78764710122904,128.6111891101303,96.7271215333247,104.57611421988939,95.96360612235975,73.07952711142276,82.0588997875397,101.96403144620938,78.19853250311786,96.81301553579733,127.38810970864164,87.44600075357462,113.08198421681305,123.78801886774103,108.01119974187554,97.85565780016908,94.76743934143504,104.7324289871921,75.33395665304724,97.57481734075665,112.61293924772833,111.21165234829512,91.61578774424137,108.68928441006481,87.35391672235451,68.04599143459285,150.91592695034865,160.67338842195022],\"y\":[68.7130542959035,130.0420199237844,80.3633557512926,87.40110849171417,108.67842874461002,104.82977795169494,95.27994011205381,73.7055501141595,108.54698233832187,66.23227843788047,117.72982283333668,108.59100922190301,126.077874514855,111.39843863755016,88.60145859842378,129.4656158462804,126.1569272830118,139.83366856409108,90.58364106251972,74.65845561751347,70.83602983429601,118.49112038003885,105.08629233079652,133.80061607114953,89.86132010771954,109.10510960132123,102.07259881013836,55.03446338044455,80.63579044847326,93.36316645418833,67.43671191866287,117.00013238677802,117.86092702109603,87.13992594388044,132.41930284985366,124.36920274656666,126.03194321373243,106.11093647955784,99.79939890019608,110.44487035247998,74.1130552658533,101.24395704195591,110.95290665168969,94.52362459952926,89.68817604404128,94.22798517833712,78.05237478936489,68.25280425633682,164.02161926061504,163.96215536070423],\"type\":\"scatter\"},{\"x\":[55.03446338044455,164.02161926061504],\"y\":[55.03446338044455,164.02161926061504],\"type\":\"scatter\"}],                        {\"height\":500,\"showlegend\":false,\"title\":{\"text\":\"Regression results\"},\"width\":800,\"xaxis\":{\"title\":{\"text\":\"y_true\"}},\"yaxis\":{\"title\":{\"text\":\"y_pred\"}},\"template\":{\"data\":{\"histogram2dcontour\":[{\"type\":\"histogram2dcontour\",\"colorbar\":{\"outlinewidth\":0,\"ticks\":\"\"},\"colorscale\":[[0.0,\"#0d0887\"],[0.1111111111111111,\"#46039f\"],[0.2222222222222222,\"#7201a8\"],[0.3333333333333333,\"#9c179e\"],[0.4444444444444444,\"#bd3786\"],[0.5555555555555556,\"#d8576b\"],[0.6666666666666666,\"#ed7953\"],[0.7777777777777778,\"#fb9f3a\"],[0.8888888888888888,\"#fdca26\"],[1.0,\"#f0f921\"]]}],\"choropleth\":[{\"type\":\"choropleth\",\"colorbar\":{\"outlinewidth\":0,\"ticks\":\"\"}}],\"histogram2d\":[{\"type\":\"histogram2d\",\"colorbar\":{\"outlinewidth\":0,\"ticks\":\"\"},\"colorscale\":[[0.0,\"#0d0887\"],[0.1111111111111111,\"#46039f\"],[0.2222222222222222,\"#7201a8\"],[0.3333333333333333,\"#9c179e\"],[0.4444444444444444,\"#bd3786\"],[0.5555555555555556,\"#d8576b\"],[0.6666666666666666,\"#ed7953\"],[0.7777777777777778,\"#fb9f3a\"],[0.8888888888888888,\"#fdca26\"],[1.0,\"#f0f921\"]]}],\"heatmap\":[{\"type\":\"heatmap\",\"colorbar\":{\"outlinewidth\":0,\"ticks\":\"\"},\"colorscale\":[[0.0,\"#0d0887\"],[0.1111111111111111,\"#46039f\"],[0.2222222222222222,\"#7201a8\"],[0.3333333333333333,\"#9c179e\"],[0.4444444444444444,\"#bd3786\"],[0.5555555555555556,\"#d8576b\"],[0.6666666666666666,\"#ed7953\"],[0.7777777777777778,\"#fb9f3a\"],[0.8888888888888888,\"#fdca26\"],[1.0,\"#f0f921\"]]}],\"heatmapgl\":[{\"type\":\"heatmapgl\",\"colorbar\":{\"outlinewidth\":0,\"ticks\":\"\"},\"colorscale\":[[0.0,\"#0d0887\"],[0.1111111111111111,\"#46039f\"],[0.2222222222222222,\"#7201a8\"],[0.3333333333333333,\"#9c179e\"],[0.4444444444444444,\"#bd3786\"],[0.5555555555555556,\"#d8576b\"],[0.6666666666666666,\"#ed7953\"],[0.7777777777777778,\"#fb9f3a\"],[0.8888888888888888,\"#fdca26\"],[1.0,\"#f0f921\"]]}],\"contourcarpet\":[{\"type\":\"contourcarpet\",\"colorbar\":{\"outlinewidth\":0,\"ticks\":\"\"}}],\"contour\":[{\"type\":\"contour\",\"colorbar\":{\"outlinewidth\":0,\"ticks\":\"\"},\"colorscale\":[[0.0,\"#0d0887\"],[0.1111111111111111,\"#46039f\"],[0.2222222222222222,\"#7201a8\"],[0.3333333333333333,\"#9c179e\"],[0.4444444444444444,\"#bd3786\"],[0.5555555555555556,\"#d8576b\"],[0.6666666666666666,\"#ed7953\"],[0.7777777777777778,\"#fb9f3a\"],[0.8888888888888888,\"#fdca26\"],[1.0,\"#f0f921\"]]}],\"surface\":[{\"type\":\"surface\",\"colorbar\":{\"outlinewidth\":0,\"ticks\":\"\"},\"colorscale\":[[0.0,\"#0d0887\"],[0.1111111111111111,\"#46039f\"],[0.2222222222222222,\"#7201a8\"],[0.3333333333333333,\"#9c179e\"],[0.4444444444444444,\"#bd3786\"],[0.5555555555555556,\"#d8576b\"],[0.6666666666666666,\"#ed7953\"],[0.7777777777777778,\"#fb9f3a\"],[0.8888888888888888,\"#fdca26\"],[1.0,\"#f0f921\"]]}],\"mesh3d\":[{\"type\":\"mesh3d\",\"colorbar\":{\"outlinewidth\":0,\"ticks\":\"\"}}],\"scatter\":[{\"fillpattern\":{\"fillmode\":\"overlay\",\"size\":10,\"solidity\":0.2},\"type\":\"scatter\"}],\"parcoords\":[{\"type\":\"parcoords\",\"line\":{\"colorbar\":{\"outlinewidth\":0,\"ticks\":\"\"}}}],\"scatterpolargl\":[{\"type\":\"scatterpolargl\",\"marker\":{\"colorbar\":{\"outlinewidth\":0,\"ticks\":\"\"}}}],\"bar\":[{\"error_x\":{\"color\":\"#2a3f5f\"},\"error_y\":{\"color\":\"#2a3f5f\"},\"marker\":{\"line\":{\"color\":\"#E5ECF6\",\"width\":0.5},\"pattern\":{\"fillmode\":\"overlay\",\"size\":10,\"solidity\":0.2}},\"type\":\"bar\"}],\"scattergeo\":[{\"type\":\"scattergeo\",\"marker\":{\"colorbar\":{\"outlinewidth\":0,\"ticks\":\"\"}}}],\"scatterpolar\":[{\"type\":\"scatterpolar\",\"marker\":{\"colorbar\":{\"outlinewidth\":0,\"ticks\":\"\"}}}],\"histogram\":[{\"marker\":{\"pattern\":{\"fillmode\":\"overlay\",\"size\":10,\"solidity\":0.2}},\"type\":\"histogram\"}],\"scattergl\":[{\"type\":\"scattergl\",\"marker\":{\"colorbar\":{\"outlinewidth\":0,\"ticks\":\"\"}}}],\"scatter3d\":[{\"type\":\"scatter3d\",\"line\":{\"colorbar\":{\"outlinewidth\":0,\"ticks\":\"\"}},\"marker\":{\"colorbar\":{\"outlinewidth\":0,\"ticks\":\"\"}}}],\"scattermapbox\":[{\"type\":\"scattermapbox\",\"marker\":{\"colorbar\":{\"outlinewidth\":0,\"ticks\":\"\"}}}],\"scatterternary\":[{\"type\":\"scatterternary\",\"marker\":{\"colorbar\":{\"outlinewidth\":0,\"ticks\":\"\"}}}],\"scattercarpet\":[{\"type\":\"scattercarpet\",\"marker\":{\"colorbar\":{\"outlinewidth\":0,\"ticks\":\"\"}}}],\"carpet\":[{\"aaxis\":{\"endlinecolor\":\"#2a3f5f\",\"gridcolor\":\"white\",\"linecolor\":\"white\",\"minorgridcolor\":\"white\",\"startlinecolor\":\"#2a3f5f\"},\"baxis\":{\"endlinecolor\":\"#2a3f5f\",\"gridcolor\":\"white\",\"linecolor\":\"white\",\"minorgridcolor\":\"white\",\"startlinecolor\":\"#2a3f5f\"},\"type\":\"carpet\"}],\"table\":[{\"cells\":{\"fill\":{\"color\":\"#EBF0F8\"},\"line\":{\"color\":\"white\"}},\"header\":{\"fill\":{\"color\":\"#C8D4E3\"},\"line\":{\"color\":\"white\"}},\"type\":\"table\"}],\"barpolar\":[{\"marker\":{\"line\":{\"color\":\"#E5ECF6\",\"width\":0.5},\"pattern\":{\"fillmode\":\"overlay\",\"size\":10,\"solidity\":0.2}},\"type\":\"barpolar\"}],\"pie\":[{\"automargin\":true,\"type\":\"pie\"}]},\"layout\":{\"autotypenumbers\":\"strict\",\"colorway\":[\"#636efa\",\"#EF553B\",\"#00cc96\",\"#ab63fa\",\"#FFA15A\",\"#19d3f3\",\"#FF6692\",\"#B6E880\",\"#FF97FF\",\"#FECB52\"],\"font\":{\"color\":\"#2a3f5f\"},\"hovermode\":\"closest\",\"hoverlabel\":{\"align\":\"left\"},\"paper_bgcolor\":\"white\",\"plot_bgcolor\":\"#E5ECF6\",\"polar\":{\"bgcolor\":\"#E5ECF6\",\"angularaxis\":{\"gridcolor\":\"white\",\"linecolor\":\"white\",\"ticks\":\"\"},\"radialaxis\":{\"gridcolor\":\"white\",\"linecolor\":\"white\",\"ticks\":\"\"}},\"ternary\":{\"bgcolor\":\"#E5ECF6\",\"aaxis\":{\"gridcolor\":\"white\",\"linecolor\":\"white\",\"ticks\":\"\"},\"baxis\":{\"gridcolor\":\"white\",\"linecolor\":\"white\",\"ticks\":\"\"},\"caxis\":{\"gridcolor\":\"white\",\"linecolor\":\"white\",\"ticks\":\"\"}},\"coloraxis\":{\"colorbar\":{\"outlinewidth\":0,\"ticks\":\"\"}},\"colorscale\":{\"sequential\":[[0.0,\"#0d0887\"],[0.1111111111111111,\"#46039f\"],[0.2222222222222222,\"#7201a8\"],[0.3333333333333333,\"#9c179e\"],[0.4444444444444444,\"#bd3786\"],[0.5555555555555556,\"#d8576b\"],[0.6666666666666666,\"#ed7953\"],[0.7777777777777778,\"#fb9f3a\"],[0.8888888888888888,\"#fdca26\"],[1.0,\"#f0f921\"]],\"sequentialminus\":[[0.0,\"#0d0887\"],[0.1111111111111111,\"#46039f\"],[0.2222222222222222,\"#7201a8\"],[0.3333333333333333,\"#9c179e\"],[0.4444444444444444,\"#bd3786\"],[0.5555555555555556,\"#d8576b\"],[0.6666666666666666,\"#ed7953\"],[0.7777777777777778,\"#fb9f3a\"],[0.8888888888888888,\"#fdca26\"],[1.0,\"#f0f921\"]],\"diverging\":[[0,\"#8e0152\"],[0.1,\"#c51b7d\"],[0.2,\"#de77ae\"],[0.3,\"#f1b6da\"],[0.4,\"#fde0ef\"],[0.5,\"#f7f7f7\"],[0.6,\"#e6f5d0\"],[0.7,\"#b8e186\"],[0.8,\"#7fbc41\"],[0.9,\"#4d9221\"],[1,\"#276419\"]]},\"xaxis\":{\"gridcolor\":\"white\",\"linecolor\":\"white\",\"ticks\":\"\",\"title\":{\"standoff\":15},\"zerolinecolor\":\"white\",\"automargin\":true,\"zerolinewidth\":2},\"yaxis\":{\"gridcolor\":\"white\",\"linecolor\":\"white\",\"ticks\":\"\",\"title\":{\"standoff\":15},\"zerolinecolor\":\"white\",\"automargin\":true,\"zerolinewidth\":2},\"scene\":{\"xaxis\":{\"backgroundcolor\":\"#E5ECF6\",\"gridcolor\":\"white\",\"linecolor\":\"white\",\"showbackground\":true,\"ticks\":\"\",\"zerolinecolor\":\"white\",\"gridwidth\":2},\"yaxis\":{\"backgroundcolor\":\"#E5ECF6\",\"gridcolor\":\"white\",\"linecolor\":\"white\",\"showbackground\":true,\"ticks\":\"\",\"zerolinecolor\":\"white\",\"gridwidth\":2},\"zaxis\":{\"backgroundcolor\":\"#E5ECF6\",\"gridcolor\":\"white\",\"linecolor\":\"white\",\"showbackground\":true,\"ticks\":\"\",\"zerolinecolor\":\"white\",\"gridwidth\":2}},\"shapedefaults\":{\"line\":{\"color\":\"#2a3f5f\"}},\"annotationdefaults\":{\"arrowcolor\":\"#2a3f5f\",\"arrowhead\":0,\"arrowwidth\":1},\"geo\":{\"bgcolor\":\"white\",\"landcolor\":\"#E5ECF6\",\"subunitcolor\":\"white\",\"showland\":true,\"showlakes\":true,\"lakecolor\":\"white\"},\"title\":{\"x\":0.05},\"mapbox\":{\"style\":\"light\"}}}},                        {\"responsive\": true}                    ).then(function(){\n",
              "                            \n",
              "var gd = document.getElementById('2cb5ebf6-28bd-4262-8e06-9c339261ea77');\n",
              "var x = new MutationObserver(function (mutations, observer) {{\n",
              "        var display = window.getComputedStyle(gd).display;\n",
              "        if (!display || display === 'none') {{\n",
              "            console.log([gd, 'removed!']);\n",
              "            Plotly.purge(gd);\n",
              "            observer.disconnect();\n",
              "        }}\n",
              "}});\n",
              "\n",
              "// Listen for the removal of the full notebook cells\n",
              "var notebookContainer = gd.closest('#notebook-container');\n",
              "if (notebookContainer) {{\n",
              "    x.observe(notebookContainer, {childList: true});\n",
              "}}\n",
              "\n",
              "// Listen for the clearing of the current output cell\n",
              "var outputEl = gd.closest('.output');\n",
              "if (outputEl) {{\n",
              "    x.observe(outputEl, {childList: true});\n",
              "}}\n",
              "\n",
              "                        })                };                            </script>        </div>\n",
              "</body>\n",
              "</html>"
            ]
          },
          "metadata": {}
        }
      ]
    },
    {
      "cell_type": "markdown",
      "source": [
        "#Histogram błędu - badamy częstotliwość występowania danych wartości\n"
      ],
      "metadata": {
        "id": "77Fa8OwomX0l"
      }
    },
    {
      "cell_type": "code",
      "source": [
        "y_true = 100 + 20 *np.random.randn(1000)\n",
        "y_pred = y_true + 20 *np.random.randn(1000)\n",
        "results = pd.DataFrame({'y_true': y_true,\n",
        "                        'y_pred': y_pred})\n",
        "results['error'] = results['y_true'] - results['y_pred']"
      ],
      "metadata": {
        "id": "z0J4ZKRBmXH4"
      },
      "execution_count": null,
      "outputs": []
    },
    {
      "cell_type": "code",
      "source": [
        "#jeżeli model jest zwrócony wartościami w prawą stronę (jest prawoskośny) to model niedoszacowuje wartości (błąd dodatni)\n",
        "#jeżeli model jest zwrócony wartościami w lewa stronę (jest lewoskośny) to model przeszacowuje wartości (błąd ujemny)\n",
        "\n",
        "px.histogram(data_frame = results, x = 'error', nbins = 100 )"
      ],
      "metadata": {
        "colab": {
          "base_uri": "https://localhost:8080/",
          "height": 542
        },
        "id": "CAY2n658m5EA",
        "outputId": "1fcfee95-dd29-462f-a8de-113353952e98"
      },
      "execution_count": null,
      "outputs": [
        {
          "output_type": "display_data",
          "data": {
            "text/html": [
              "<html>\n",
              "<head><meta charset=\"utf-8\" /></head>\n",
              "<body>\n",
              "    <div>            <script src=\"https://cdnjs.cloudflare.com/ajax/libs/mathjax/2.7.5/MathJax.js?config=TeX-AMS-MML_SVG\"></script><script type=\"text/javascript\">if (window.MathJax && window.MathJax.Hub && window.MathJax.Hub.Config) {window.MathJax.Hub.Config({SVG: {font: \"STIX-Web\"}});}</script>                <script type=\"text/javascript\">window.PlotlyConfig = {MathJaxConfig: 'local'};</script>\n",
              "        <script src=\"https://cdn.plot.ly/plotly-2.18.2.min.js\"></script>                <div id=\"7177aaba-c34e-400b-8dd3-64b6dc2d6b8a\" class=\"plotly-graph-div\" style=\"height:525px; width:100%;\"></div>            <script type=\"text/javascript\">                                    window.PLOTLYENV=window.PLOTLYENV || {};                                    if (document.getElementById(\"7177aaba-c34e-400b-8dd3-64b6dc2d6b8a\")) {                    Plotly.newPlot(                        \"7177aaba-c34e-400b-8dd3-64b6dc2d6b8a\",                        [{\"alignmentgroup\":\"True\",\"bingroup\":\"x\",\"hovertemplate\":\"error=%{x}<br>count=%{y}<extra></extra>\",\"legendgroup\":\"\",\"marker\":{\"color\":\"#636efa\",\"pattern\":{\"shape\":\"\"}},\"name\":\"\",\"nbinsx\":100,\"offsetgroup\":\"\",\"orientation\":\"v\",\"showlegend\":false,\"x\":[15.026655179532455,-34.920937087122894,30.87077536751886,39.40804050099282,-31.04663680208921,0.20116436864776688,-33.20218478105154,19.96529129957979,-0.5315993697876138,3.4638620674183613,-5.9219710381407396,-29.893017350943836,41.17775891719535,32.573674377052896,-13.985401514030528,-1.4925694762050483,-12.854270609158306,28.3500986065131,-11.599187252005493,19.214716866457138,-12.061450567235767,24.994950633597526,-39.24958557259109,21.164593460168106,-4.407101057347774,-20.080708173118182,-7.229925458176496,7.188406384883919,-19.496351849398394,-2.8086470453232124,-15.126793922196285,3.4375463904508052,-5.9539655660104245,17.552803723540606,-11.637987767582047,9.839700187845636,39.06422116835512,0.5606488533572502,-18.75726937901989,-12.917946676723204,13.208562006055757,-34.65841872526299,-1.5545752513662308,-20.683502966153753,-14.579031164977948,12.675465494977203,-53.70808868523862,5.9045300580651485,40.64342453512198,-35.006702498232784,-23.614812200356738,-3.4176785152011746,-16.442472969257068,1.852637327733376,-22.838405879030304,7.3463223392411905,-21.379566406810405,6.572326242278365,-2.852610855804187,-23.23256028468954,-11.97092289368996,12.355120384308776,-37.909757293354815,-48.30768459807484,41.93215372247495,-5.195744050464214,-21.007249155135753,4.11963783172007,10.164011706346827,-12.606846762767091,16.43348941475118,7.213217080584457,5.514682721276387,9.234139036175122,-2.8655440759884527,-10.95417517710797,4.795954813534479,-31.103209615774716,3.4850135946806944,4.35953705231951,4.486924613158962,22.388706213680734,-24.014294981953412,-8.305918668586457,-17.756307825445262,41.59657327917209,-5.583110999586069,-1.6286584131643167,21.546977586933295,-18.300354598748896,41.4328911351915,39.78220655239073,39.36824881923405,4.12872858701364,-9.143249726250033,-9.961458129558622,39.8425259495051,14.097613010436646,7.235368837496495,27.994216160802424,28.594153851613825,-43.59548121868632,12.011411579067016,-10.774264002266747,18.989729673781767,-8.708727371960919,5.072469317073157,16.141066257456885,4.661227762724806,7.644890971885033,14.148144542817988,0.2607607666921723,-34.19373671329278,6.7156598547144455,-31.273536818286914,-10.918585274598115,-2.3977550149259628,-0.8693284170392133,-14.856348984919578,4.2125208548776385,-17.420972897274552,-4.484404347414255,2.385321122558352,1.8279454254227971,12.95193705055155,14.56602009623279,26.479855537701383,-15.677545999200163,28.173275241373346,0.42439868313265094,-5.626750133753063,-1.4780348442139086,7.584981541329455,-2.3907058747293632,-19.75618134793862,-24.432516653094183,-30.01555116932687,-11.99991872776927,-10.660255939589348,-0.753985565609895,29.39033022648075,27.602926898291287,11.923463094535961,10.024713316856136,16.453768681449205,1.321263366030962,-1.8110591553256512,-18.1679822922586,-27.548871787271764,19.109785297646297,-19.822971534428845,-11.53912072712869,1.0774692099641925,-22.565556738814607,18.33281333113443,-13.715327725629834,-12.341836670708602,5.0238723459594326,17.22661931930405,-12.52449807718537,6.598718690383528,-33.91937489957904,19.359712255607334,5.857959657924653,-9.143695005938142,-0.38852872632762114,23.684618601652943,0.305995594917178,32.195423853688474,6.563087555944364,-29.80507353662459,26.509505365383532,17.314460972791295,-10.49313510448441,17.13858879869369,-23.261658536189245,25.897803955069577,-2.9615057546574945,-3.354914760717776,-5.150807931978406,-3.9522926371037386,-16.03689826724313,14.305994977345009,62.1681859071371,-13.999885416487373,-8.6799276073464,11.888887635358074,-1.376789829238632,-2.3089584557968834,-4.425348877633738,22.995656324000585,4.99463130883953,14.933458122839824,-34.493007681561,10.610655769336901,-30.178327193541534,-7.493506829386845,1.0718672885223413,-22.52277135378118,-18.067373292342083,-40.071717495254205,-39.006271600174216,-30.400945963756385,3.4427684631090045,-14.280275644236056,19.89644848256731,32.09191827038262,-0.28403273994091194,-6.899909011346622,-2.657577840928127,-9.185294364374982,8.752629076831752,-3.934716808753805,3.443898129963884,-12.559180822239782,36.585642016085075,-8.268001594754764,15.56708590711417,6.063194251099013,3.373294105343035,-15.341579674447132,16.388885551120694,-47.42276765898174,7.913228825329256,27.962171540159716,-28.268281598935317,29.123507346493966,11.761404046738136,-6.6748543720849085,-24.652317150257403,-28.87649188748182,27.469915038419273,-37.44750166346458,-17.04538344910287,15.289566891671441,51.71603719425788,-4.248791992321358,-7.8251964372416865,-9.36636447040047,23.646923384419352,-36.0990252693305,-21.845387009495198,12.683112410286569,24.776082388428605,10.826882860943186,-1.22375182557019,-13.63085385672025,-32.53683575692739,-1.222992603683963,-8.511230431195443,3.4688372540351935,-20.15465254869899,-23.950178828978665,15.663050499336649,-3.7805283330761625,-35.84422572936954,-47.97895777980865,-14.749603841900907,-32.8686934944935,2.6434867414617997,12.18415529287752,-18.387835886720808,-16.03814544562988,6.52218625489148,-20.99118186904677,-1.759465341708875,9.648068842370535,5.07877539885439,24.28949442987536,-2.40075874004053,13.084324932021445,35.99347245635413,3.562537994234475,-7.428164860329346,-1.4053264932312715,3.244388283855045,7.168848034230479,-2.938889583070022,-3.7542954304324496,1.0694563820671021,-21.314883880764,-9.251376364510122,4.444590444057752,-24.424490748715456,45.24361260822771,2.4406455180802453,12.746015275806101,-12.36335716484173,17.411033730596095,18.035650916416657,12.275629566127932,13.825628502278896,-0.39581482729204254,19.144190886994707,-21.601557613044974,-31.104628990468797,49.12861518093642,-6.543148802613558,-55.17747554923248,39.2492301378802,7.521331315491565,0.24346928796040856,1.3352440199245166,0.6200378416360337,39.135935378848984,-18.626936246027213,15.701942554517018,-4.072427903977797,-6.0622225264900464,-18.134406787875704,3.277379759971126,20.540996879448926,-35.87219922876305,26.403695189206815,3.562886874813273,1.4549017056710056,-6.903458323253702,-18.043230291367394,17.76666642740095,-30.440654520401665,-14.586115583037582,15.467984671267914,-14.741013009057923,-17.848731526426434,-59.70295467303282,15.052862732082716,-12.932244089029183,-9.580514888684803,-18.70786478278545,42.426035837758214,13.963397573186839,7.6570607847639,-5.666080266957735,3.8303038993957585,9.75901876211286,-5.62069733796811,-3.7928895804233207,17.475045963690064,-4.345874319386155,31.026985461501596,-10.385301862931613,25.212885913427513,-12.499875413308303,6.093602675100016,-8.008209658997387,-12.37069546224636,-11.925911285506302,7.091088930538973,-46.237259371734694,1.067162725049542,-5.96516887972696,-43.11829273021942,10.957192920146923,-7.168087189981065,4.605026903891968,-32.458304317853006,32.97343882840465,22.281947637188033,26.492407704891477,18.75422728132591,36.46284030949745,-2.585099978633835,-13.24279080701399,4.138178652137839,24.67740204609889,-48.249753306825625,10.969867274332032,-8.03135194981462,-6.386446707393347,5.636643568825008,0.589279940995084,-26.214725442884642,5.583485018543513,7.400568822135796,-10.03356929161032,-20.659691192438387,-23.92246678279193,18.23651942393049,6.1510399432058165,29.17176921546735,9.308224744933838,0.20978773884692714,27.98052983399822,25.504933131426597,-32.45042590825237,16.875587925609935,-10.858307346017654,-9.366572397629426,-11.77415085770292,4.77539919306345,13.61347821876491,-35.89585409481559,14.47444913813166,-5.0389413833834595,15.691690777923554,3.2420058050101375,5.443592325627293,-17.431802936052776,0.1464289633835989,2.060149540518907,-9.864483568584177,-9.456165628607025,-10.173123924810824,-4.873791901046658,-3.405219339105571,0.9609556423720278,-10.221152468574374,51.85771037190176,10.650081047064376,3.819503123860585,27.092671895689207,1.3756517904635217,17.069133297235027,1.8033204867821127,58.59966784394893,3.0846680531030586,1.4620404251553794,13.30844189174681,-33.4753277778492,14.78204842030857,-32.811485924861714,-23.741388795514524,5.538979860152921,29.429319304403847,0.6485258294567018,-10.877085394189521,48.07418718413145,1.4889084370779244,-2.9666512406462004,1.2313115368470733,-4.833763736894255,-33.768939170249894,-5.010339367737075,13.001702093892348,4.501330081409236,17.088627925496745,2.828621177504047,28.6954795903834,26.850582929701645,14.64412371539612,-12.559696447245173,-23.093687638183894,-22.314632043587835,-59.56245843245665,-8.962066227608375,9.544253828246099,4.478729136091204,15.238492526106612,46.89848091092778,7.020910503480394,-12.131391249722043,10.416652182662375,18.067585772704433,4.909089693425514,9.82923880615995,-22.205041637201873,35.30651858909265,-21.09329907324306,4.553739140008815,2.995574165404136,12.485394110516324,20.377377424700995,6.666549000101611,-16.86977112752251,24.216159116274554,1.306302872771525,7.508006808999269,-26.585562372919128,-3.7925475194170986,1.2776736422592023,-12.107080980298633,11.8695018325933,13.722258487614312,14.197250076779483,3.6172974648458904,3.257353531709981,23.782936962664692,8.382690411162997,-10.884792650996673,28.53970717369066,4.697709740749687,23.719814743749467,-2.0011221750076658,-5.2628668162963805,-27.12344840735861,-35.671176974242414,33.02210279421047,30.87116558239471,38.884214100568045,16.250926200240713,-13.52411934883493,1.961734687992461,-27.590328712197163,28.736681227675135,24.61258951609659,15.57303509847398,6.7194521678918875,27.055302317658686,-4.2964616143953975,-56.07310130334599,-4.759004322719804,-43.013788331599045,-16.125893552072732,19.22652814546983,40.68134169161712,-36.454406260881996,-2.8147230307746014,1.555372456981516,-32.369076017654706,7.271422093825379,6.286183911776902,13.463304332484185,-14.886441867358513,-12.951322630114447,-37.61836009116654,9.343503053877356,-4.86460934371938,-7.297187784175534,13.715966766352011,22.183037963391143,10.2214851535078,4.609327637003972,-10.87994427775297,-46.93771374190581,19.192226008801885,-27.543277232185176,-48.46983276426366,31.736524566058705,-4.179616754861826,6.088284264571726,14.322771952056343,-3.612475698621438,14.150096828760255,48.5088170808731,-18.749493978149985,-29.039240176562856,-2.039533298321629,-2.415243928851851,14.948658446428283,-14.765497080377443,10.740546554224267,4.037505341824925,23.374567025181065,9.984670791672528,17.3984759779664,-7.0073650911282925,-19.778266816223095,-2.2438312365059687,-3.702918610535022,33.90505870764939,-46.819797271711906,23.15201069572764,2.3958169646297307,-14.027431408209807,-42.77953392626847,-0.6881851328578534,23.619455888454453,22.145180123846316,25.343519630375283,31.242636159334943,-18.746534393158967,-3.9816504389347784,-49.66192089904297,-44.30479804717572,-35.52792775701273,-8.97547935896992,-39.47877181044131,19.88544365784243,28.002052368934216,-0.993927272665502,19.135067954595797,4.221728583059615,-12.609192231219453,23.354402597908688,-0.30906111349909793,-2.5921052566470593,-30.03612509250648,11.648360127627683,21.607199652957092,-25.003320864505497,-5.8505452689434065,-3.951715414019773,13.84195171564717,-31.955922553738773,1.7258508236273684,2.080049682341965,7.502321361588869,-12.902025284982827,-35.09671228149418,-20.538893609767328,-3.6107976060523583,28.661407457203033,-45.04418692271145,-22.71544569821421,8.532863900684816,-5.284617588873687,16.8136825812457,-16.2763244699818,-11.981363941014479,-11.881998916792696,5.034554646997449,0.3068618195857056,21.09319711731355,-5.083316788787727,10.864737411630884,-29.045809165861655,36.267636726304275,-19.03186331036227,-22.913146508422017,-10.750812530937182,-8.90484600177237,22.21557524414311,14.877352190816794,-12.789183172048098,0.7119078803731185,2.656295786046954,-17.168005093303094,0.7555221371912495,11.573657430122509,-2.175539343236167,-13.179704710932981,23.1122557427299,-5.592926690428328,3.7702838079766536,15.321605703632045,9.224292340888923,47.70749069694386,21.435116155401076,-18.481521299706884,-0.5580613374355892,-9.223568403487334,7.081890792299944,-16.877118401349975,0.08962367298238405,27.725394219407434,-3.3849575991315533,-4.8460201148702,13.633857788325685,-14.22428110076153,-22.232107838804396,21.161980258465334,-2.2528106029918007,15.914076101163715,-16.19003531122658,-15.935291775935895,25.996420509687155,58.259278791516905,-19.703362517902264,-32.15770303215591,1.7268166768980393,9.196847035146504,-25.636934944776314,12.301636503132592,34.000225613422316,33.16030374417661,20.80894608433661,-16.843773230443276,33.13230190484275,9.03488657546302,-3.610482421778883,36.61124983558892,5.375095585534126,7.124356009011294,13.503396540143882,-6.1350596095468575,6.598006120115336,11.726610089595027,-24.908405279452083,-19.342423637155093,6.119765645481166,14.759943577620078,5.691394712066526,15.884432696183353,9.89160448736581,19.90484553543,-18.796417368158316,-8.054279932452545,-2.6295175272234133,2.872514267472752,1.9705111592404592,-6.5533735276899705,-9.751862644575596,33.23140115750971,9.430339879623816,24.762194170850677,-9.041867498214955,-19.02741607787827,-23.996579179426092,-6.297643288628265,0.24699399020373392,-10.36996607073253,-16.845349993152368,-15.48270186654807,19.550633285839552,4.14974391353347,32.285713713184364,-9.200937277188558,-10.034465921218384,2.9180457934427437,6.095319223972822,5.931062367389856,1.1581199127408723,22.351990409677114,25.859957043415534,-11.851355951069863,-28.97416647644377,-8.462076403174535,-22.712330226735602,-3.0609066244083323,8.822592245166845,-12.479263298530483,-27.79267911635307,2.7514513370657596,-7.788993603979009,11.080015170700861,4.064388129579115,21.47824589822538,-6.960452222875858,-3.652979141219191,-9.017045839774596,1.3006290458607026,14.324431598712806,21.00636569554119,-7.184542928549945,3.2378372497977495,44.45225945846953,1.5417198844024398,18.19831398576858,-3.7164524996673975,-15.076059655126357,8.321449635043237,2.854527066629174,1.2377785403888595,25.66230580984879,16.208728385935572,-9.080046191791283,2.388204467463794,-9.30913265151328,-1.984764670658791,23.565271528903168,-1.6266982448647127,-5.561912948764274,-23.46945633786207,-11.074378882246009,-14.217139675056274,41.776425747229226,-7.566839342960336,-12.508824500487663,-6.3994137190439915,-36.86641391024702,25.31598978511188,-6.5857845126164705,0.4322917521243568,-23.460957314775158,-1.7158550473875067,0.4025251964670673,-7.389573791532044,31.372826487378106,2.8888099916005388,-6.005888239469499,0.43760423345418076,-16.90479292002827,-10.169116780367261,-23.204654366849795,-15.310289182743361,-16.925752798752328,0.9873713971497722,15.343345879659275,-24.310734695390863,12.100118127942295,3.8282789971437836,7.456343708092675,13.877489224623943,10.45519223769871,19.539202721666726,-27.3933337461622,20.57519036404335,2.5543998667183843,-1.9441484138841503,2.578550313118498,21.166934376057213,18.52700374190003,1.7945889418756735,10.377081081131962,22.05828406065909,-10.329232292903257,-27.76130909961023,11.918882210007524,-1.8894077252360972,-34.936779131674555,-26.0070905634352,-4.945367109575187,5.169912415804646,48.18636854023734,-27.233741035310572,-30.30917718762143,-3.678211025621323,-15.87489109806009,4.60898506644746,9.814988030333936,-13.46819484611261,-23.51451324240304,-6.9975323154805125,-18.400858560265718,-28.66619294750994,-15.109516634164237,-20.9911394953253,-1.5108575159016198,-0.48314331632296614,25.44071838430886,33.439708924620085,-1.4972953816646566,20.547415891182908,17.161101098195374,9.388203354622718,5.993129648575817,3.135851147215874,-13.720071493578914,20.575087782329106,30.22408984531878,-2.733903272295521,-4.812405003042713,9.399522577978487,-16.315784992217473,-22.72434444569994,10.954165129671807,-4.991485189137492,-8.841765747677115,13.782361121760374,36.25421050914911,-36.96085527260004,13.234867665535162,11.554042713613526,-22.545410367166156,16.124706562184755,-15.449116138419953,26.542084519106297,-12.195941806926072,-23.92427996487018,-31.354483878043595,-29.27021621795133,-17.257062924264872,-32.980037870301885,-29.566714517220078,2.2929071348161614,-11.454884244130199,-10.565839947153492,16.930533439606492,-19.45281958997863,11.040528338875205,46.04978016815188,-42.025786583290184,-24.10747606851885,-8.644230531865375,-25.518707819416193,25.499831946178944,-5.588610630016561,-5.159051659778655,10.915775325964091,3.583159832063231,0.45037083647959264,-25.51491904364893,-25.566604843598725,-28.40791809119156,-14.448904007822321,6.7176594423286105,29.671468436591937,-7.856271072233795,-51.16971618296864,-24.33753777539549,-11.632104787015024,-3.7826206534127635,-12.609495733685662,-43.34126414509268,-5.666170463578112,0.4407681113831643,-1.877400995068598,-0.2788864804022779,12.074673434211022,-34.153718734434534,-12.034856630868475,-36.806361680428665,-15.453975107960005,-2.862859528588885,8.54304861305448,0.5916271887024322,11.885935622217062,-8.625194397904536,-42.06997158911062,3.5624184684530746,8.565485237577548,-37.45077894475213,26.85078312398076,-8.429001537744497,-25.219823617634844,-2.1239072341124796,35.22927652175113,23.439258813606287,3.693581003484667,-26.3573693271734,36.07020817200847,-2.9457465666497455,-8.97986711119438,33.92612715184531,-4.879422245201809,-3.395581090145356,-2.033824555538885,-5.090995034044894,19.498517070712495,-7.636576830969091,4.145561296500745,0.3990887912494401,12.304402973441654,-13.33087168922549,-53.20117694230086,-7.47602364453104,-5.11770677969119,25.139420389305158,-14.415856745193906,5.097694317759718,-0.3476715477184342,35.52104824438014,5.229616164815084,-6.379921321899332,5.307700505505196,-10.287115622142124,-6.869277673184072,-31.51134523279765,-38.59355853879843,3.2225474046304754,27.899644360244437,8.632742758493748,13.687105538152373,21.713120360603853,14.46457444333305,-37.543261068183384,58.397895285134624,-20.89947814440967,2.5671648960714464,-32.90960229096487,38.44603044961496,-12.282186726839342,35.80089653184467,-10.75209243067394,2.456407218951199,38.30334234941036,18.082354783733564,18.379387920274866,-0.8060291186001649,39.952820977518606,10.301214957681594,5.86685594924748,-22.36681009420826,15.135487248152202,-0.08585076063914698,-29.55095947347654,-8.912301474825696,-0.669610800791034,3.4303654053934167,6.144109831970368,-27.737316522488257,-21.909568822552743,32.19689129734477,-14.636406374240579,-1.69392496347389,11.604172560967385,-13.203051331469567,-10.764462722421683,-22.15228635086376,-30.415031149877066,-15.979340761806867,-18.757334730843752,-2.028852094914299,-23.130971741873935,25.325390004981088,-27.014948460536075,-9.756358247682272,-34.17492416365664,13.098061063171272,6.73423708061226,29.047548976938145,-13.912921028205801,13.218625749509016,-6.884881822801233,7.449573415420801,-40.82705266132773,-1.9215209351248461,-15.630887329472671,-20.297893879011525,-13.404568853775515,24.442510389145497,9.636113275398742,-23.9763452591026,5.004412646627031,-27.957715273552964,11.150279061227721,-15.42458247246141,18.610836161726482,36.22323192993554,-24.62536292266776],\"xaxis\":\"x\",\"yaxis\":\"y\",\"type\":\"histogram\"}],                        {\"template\":{\"data\":{\"histogram2dcontour\":[{\"type\":\"histogram2dcontour\",\"colorbar\":{\"outlinewidth\":0,\"ticks\":\"\"},\"colorscale\":[[0.0,\"#0d0887\"],[0.1111111111111111,\"#46039f\"],[0.2222222222222222,\"#7201a8\"],[0.3333333333333333,\"#9c179e\"],[0.4444444444444444,\"#bd3786\"],[0.5555555555555556,\"#d8576b\"],[0.6666666666666666,\"#ed7953\"],[0.7777777777777778,\"#fb9f3a\"],[0.8888888888888888,\"#fdca26\"],[1.0,\"#f0f921\"]]}],\"choropleth\":[{\"type\":\"choropleth\",\"colorbar\":{\"outlinewidth\":0,\"ticks\":\"\"}}],\"histogram2d\":[{\"type\":\"histogram2d\",\"colorbar\":{\"outlinewidth\":0,\"ticks\":\"\"},\"colorscale\":[[0.0,\"#0d0887\"],[0.1111111111111111,\"#46039f\"],[0.2222222222222222,\"#7201a8\"],[0.3333333333333333,\"#9c179e\"],[0.4444444444444444,\"#bd3786\"],[0.5555555555555556,\"#d8576b\"],[0.6666666666666666,\"#ed7953\"],[0.7777777777777778,\"#fb9f3a\"],[0.8888888888888888,\"#fdca26\"],[1.0,\"#f0f921\"]]}],\"heatmap\":[{\"type\":\"heatmap\",\"colorbar\":{\"outlinewidth\":0,\"ticks\":\"\"},\"colorscale\":[[0.0,\"#0d0887\"],[0.1111111111111111,\"#46039f\"],[0.2222222222222222,\"#7201a8\"],[0.3333333333333333,\"#9c179e\"],[0.4444444444444444,\"#bd3786\"],[0.5555555555555556,\"#d8576b\"],[0.6666666666666666,\"#ed7953\"],[0.7777777777777778,\"#fb9f3a\"],[0.8888888888888888,\"#fdca26\"],[1.0,\"#f0f921\"]]}],\"heatmapgl\":[{\"type\":\"heatmapgl\",\"colorbar\":{\"outlinewidth\":0,\"ticks\":\"\"},\"colorscale\":[[0.0,\"#0d0887\"],[0.1111111111111111,\"#46039f\"],[0.2222222222222222,\"#7201a8\"],[0.3333333333333333,\"#9c179e\"],[0.4444444444444444,\"#bd3786\"],[0.5555555555555556,\"#d8576b\"],[0.6666666666666666,\"#ed7953\"],[0.7777777777777778,\"#fb9f3a\"],[0.8888888888888888,\"#fdca26\"],[1.0,\"#f0f921\"]]}],\"contourcarpet\":[{\"type\":\"contourcarpet\",\"colorbar\":{\"outlinewidth\":0,\"ticks\":\"\"}}],\"contour\":[{\"type\":\"contour\",\"colorbar\":{\"outlinewidth\":0,\"ticks\":\"\"},\"colorscale\":[[0.0,\"#0d0887\"],[0.1111111111111111,\"#46039f\"],[0.2222222222222222,\"#7201a8\"],[0.3333333333333333,\"#9c179e\"],[0.4444444444444444,\"#bd3786\"],[0.5555555555555556,\"#d8576b\"],[0.6666666666666666,\"#ed7953\"],[0.7777777777777778,\"#fb9f3a\"],[0.8888888888888888,\"#fdca26\"],[1.0,\"#f0f921\"]]}],\"surface\":[{\"type\":\"surface\",\"colorbar\":{\"outlinewidth\":0,\"ticks\":\"\"},\"colorscale\":[[0.0,\"#0d0887\"],[0.1111111111111111,\"#46039f\"],[0.2222222222222222,\"#7201a8\"],[0.3333333333333333,\"#9c179e\"],[0.4444444444444444,\"#bd3786\"],[0.5555555555555556,\"#d8576b\"],[0.6666666666666666,\"#ed7953\"],[0.7777777777777778,\"#fb9f3a\"],[0.8888888888888888,\"#fdca26\"],[1.0,\"#f0f921\"]]}],\"mesh3d\":[{\"type\":\"mesh3d\",\"colorbar\":{\"outlinewidth\":0,\"ticks\":\"\"}}],\"scatter\":[{\"fillpattern\":{\"fillmode\":\"overlay\",\"size\":10,\"solidity\":0.2},\"type\":\"scatter\"}],\"parcoords\":[{\"type\":\"parcoords\",\"line\":{\"colorbar\":{\"outlinewidth\":0,\"ticks\":\"\"}}}],\"scatterpolargl\":[{\"type\":\"scatterpolargl\",\"marker\":{\"colorbar\":{\"outlinewidth\":0,\"ticks\":\"\"}}}],\"bar\":[{\"error_x\":{\"color\":\"#2a3f5f\"},\"error_y\":{\"color\":\"#2a3f5f\"},\"marker\":{\"line\":{\"color\":\"#E5ECF6\",\"width\":0.5},\"pattern\":{\"fillmode\":\"overlay\",\"size\":10,\"solidity\":0.2}},\"type\":\"bar\"}],\"scattergeo\":[{\"type\":\"scattergeo\",\"marker\":{\"colorbar\":{\"outlinewidth\":0,\"ticks\":\"\"}}}],\"scatterpolar\":[{\"type\":\"scatterpolar\",\"marker\":{\"colorbar\":{\"outlinewidth\":0,\"ticks\":\"\"}}}],\"histogram\":[{\"marker\":{\"pattern\":{\"fillmode\":\"overlay\",\"size\":10,\"solidity\":0.2}},\"type\":\"histogram\"}],\"scattergl\":[{\"type\":\"scattergl\",\"marker\":{\"colorbar\":{\"outlinewidth\":0,\"ticks\":\"\"}}}],\"scatter3d\":[{\"type\":\"scatter3d\",\"line\":{\"colorbar\":{\"outlinewidth\":0,\"ticks\":\"\"}},\"marker\":{\"colorbar\":{\"outlinewidth\":0,\"ticks\":\"\"}}}],\"scattermapbox\":[{\"type\":\"scattermapbox\",\"marker\":{\"colorbar\":{\"outlinewidth\":0,\"ticks\":\"\"}}}],\"scatterternary\":[{\"type\":\"scatterternary\",\"marker\":{\"colorbar\":{\"outlinewidth\":0,\"ticks\":\"\"}}}],\"scattercarpet\":[{\"type\":\"scattercarpet\",\"marker\":{\"colorbar\":{\"outlinewidth\":0,\"ticks\":\"\"}}}],\"carpet\":[{\"aaxis\":{\"endlinecolor\":\"#2a3f5f\",\"gridcolor\":\"white\",\"linecolor\":\"white\",\"minorgridcolor\":\"white\",\"startlinecolor\":\"#2a3f5f\"},\"baxis\":{\"endlinecolor\":\"#2a3f5f\",\"gridcolor\":\"white\",\"linecolor\":\"white\",\"minorgridcolor\":\"white\",\"startlinecolor\":\"#2a3f5f\"},\"type\":\"carpet\"}],\"table\":[{\"cells\":{\"fill\":{\"color\":\"#EBF0F8\"},\"line\":{\"color\":\"white\"}},\"header\":{\"fill\":{\"color\":\"#C8D4E3\"},\"line\":{\"color\":\"white\"}},\"type\":\"table\"}],\"barpolar\":[{\"marker\":{\"line\":{\"color\":\"#E5ECF6\",\"width\":0.5},\"pattern\":{\"fillmode\":\"overlay\",\"size\":10,\"solidity\":0.2}},\"type\":\"barpolar\"}],\"pie\":[{\"automargin\":true,\"type\":\"pie\"}]},\"layout\":{\"autotypenumbers\":\"strict\",\"colorway\":[\"#636efa\",\"#EF553B\",\"#00cc96\",\"#ab63fa\",\"#FFA15A\",\"#19d3f3\",\"#FF6692\",\"#B6E880\",\"#FF97FF\",\"#FECB52\"],\"font\":{\"color\":\"#2a3f5f\"},\"hovermode\":\"closest\",\"hoverlabel\":{\"align\":\"left\"},\"paper_bgcolor\":\"white\",\"plot_bgcolor\":\"#E5ECF6\",\"polar\":{\"bgcolor\":\"#E5ECF6\",\"angularaxis\":{\"gridcolor\":\"white\",\"linecolor\":\"white\",\"ticks\":\"\"},\"radialaxis\":{\"gridcolor\":\"white\",\"linecolor\":\"white\",\"ticks\":\"\"}},\"ternary\":{\"bgcolor\":\"#E5ECF6\",\"aaxis\":{\"gridcolor\":\"white\",\"linecolor\":\"white\",\"ticks\":\"\"},\"baxis\":{\"gridcolor\":\"white\",\"linecolor\":\"white\",\"ticks\":\"\"},\"caxis\":{\"gridcolor\":\"white\",\"linecolor\":\"white\",\"ticks\":\"\"}},\"coloraxis\":{\"colorbar\":{\"outlinewidth\":0,\"ticks\":\"\"}},\"colorscale\":{\"sequential\":[[0.0,\"#0d0887\"],[0.1111111111111111,\"#46039f\"],[0.2222222222222222,\"#7201a8\"],[0.3333333333333333,\"#9c179e\"],[0.4444444444444444,\"#bd3786\"],[0.5555555555555556,\"#d8576b\"],[0.6666666666666666,\"#ed7953\"],[0.7777777777777778,\"#fb9f3a\"],[0.8888888888888888,\"#fdca26\"],[1.0,\"#f0f921\"]],\"sequentialminus\":[[0.0,\"#0d0887\"],[0.1111111111111111,\"#46039f\"],[0.2222222222222222,\"#7201a8\"],[0.3333333333333333,\"#9c179e\"],[0.4444444444444444,\"#bd3786\"],[0.5555555555555556,\"#d8576b\"],[0.6666666666666666,\"#ed7953\"],[0.7777777777777778,\"#fb9f3a\"],[0.8888888888888888,\"#fdca26\"],[1.0,\"#f0f921\"]],\"diverging\":[[0,\"#8e0152\"],[0.1,\"#c51b7d\"],[0.2,\"#de77ae\"],[0.3,\"#f1b6da\"],[0.4,\"#fde0ef\"],[0.5,\"#f7f7f7\"],[0.6,\"#e6f5d0\"],[0.7,\"#b8e186\"],[0.8,\"#7fbc41\"],[0.9,\"#4d9221\"],[1,\"#276419\"]]},\"xaxis\":{\"gridcolor\":\"white\",\"linecolor\":\"white\",\"ticks\":\"\",\"title\":{\"standoff\":15},\"zerolinecolor\":\"white\",\"automargin\":true,\"zerolinewidth\":2},\"yaxis\":{\"gridcolor\":\"white\",\"linecolor\":\"white\",\"ticks\":\"\",\"title\":{\"standoff\":15},\"zerolinecolor\":\"white\",\"automargin\":true,\"zerolinewidth\":2},\"scene\":{\"xaxis\":{\"backgroundcolor\":\"#E5ECF6\",\"gridcolor\":\"white\",\"linecolor\":\"white\",\"showbackground\":true,\"ticks\":\"\",\"zerolinecolor\":\"white\",\"gridwidth\":2},\"yaxis\":{\"backgroundcolor\":\"#E5ECF6\",\"gridcolor\":\"white\",\"linecolor\":\"white\",\"showbackground\":true,\"ticks\":\"\",\"zerolinecolor\":\"white\",\"gridwidth\":2},\"zaxis\":{\"backgroundcolor\":\"#E5ECF6\",\"gridcolor\":\"white\",\"linecolor\":\"white\",\"showbackground\":true,\"ticks\":\"\",\"zerolinecolor\":\"white\",\"gridwidth\":2}},\"shapedefaults\":{\"line\":{\"color\":\"#2a3f5f\"}},\"annotationdefaults\":{\"arrowcolor\":\"#2a3f5f\",\"arrowhead\":0,\"arrowwidth\":1},\"geo\":{\"bgcolor\":\"white\",\"landcolor\":\"#E5ECF6\",\"subunitcolor\":\"white\",\"showland\":true,\"showlakes\":true,\"lakecolor\":\"white\"},\"title\":{\"x\":0.05},\"mapbox\":{\"style\":\"light\"}}},\"xaxis\":{\"anchor\":\"y\",\"domain\":[0.0,1.0],\"title\":{\"text\":\"error\"}},\"yaxis\":{\"anchor\":\"x\",\"domain\":[0.0,1.0],\"title\":{\"text\":\"count\"}},\"legend\":{\"tracegroupgap\":0},\"margin\":{\"t\":60},\"barmode\":\"relative\"},                        {\"responsive\": true}                    ).then(function(){\n",
              "                            \n",
              "var gd = document.getElementById('7177aaba-c34e-400b-8dd3-64b6dc2d6b8a');\n",
              "var x = new MutationObserver(function (mutations, observer) {{\n",
              "        var display = window.getComputedStyle(gd).display;\n",
              "        if (!display || display === 'none') {{\n",
              "            console.log([gd, 'removed!']);\n",
              "            Plotly.purge(gd);\n",
              "            observer.disconnect();\n",
              "        }}\n",
              "}});\n",
              "\n",
              "// Listen for the removal of the full notebook cells\n",
              "var notebookContainer = gd.closest('#notebook-container');\n",
              "if (notebookContainer) {{\n",
              "    x.observe(notebookContainer, {childList: true});\n",
              "}}\n",
              "\n",
              "// Listen for the clearing of the current output cell\n",
              "var outputEl = gd.closest('.output');\n",
              "if (outputEl) {{\n",
              "    x.observe(outputEl, {childList: true});\n",
              "}}\n",
              "\n",
              "                        })                };                            </script>        </div>\n",
              "</body>\n",
              "</html>"
            ]
          },
          "metadata": {}
        }
      ]
    },
    {
      "cell_type": "markdown",
      "source": [
        "# MAE - Mean Absolute Error (Średni Błąd Bezwzględny)\n",
        "\n",
        "### $$MAE = \\frac{1}{n}\\sum_{i=1}^{n}|y_{true} - y_{pred}|$$"
      ],
      "metadata": {
        "id": "dcpTbSQ-Oexh"
      }
    },
    {
      "cell_type": "code",
      "source": [
        "def mean_absolute_error(y_true, y_pred):\n",
        "    return abs(y_true - y_pred).sum()/len(y_true)\n",
        "\n",
        "mean_absolute_error(y_true, y_pred)"
      ],
      "metadata": {
        "colab": {
          "base_uri": "https://localhost:8080/"
        },
        "id": "w-S68oMhOUvT",
        "outputId": "a9b80540-2a1c-430d-9777-04686dd4199c"
      },
      "execution_count": null,
      "outputs": [
        {
          "output_type": "execute_result",
          "data": {
            "text/plain": [
              "15.988577392459066"
            ]
          },
          "metadata": {},
          "execution_count": 11
        }
      ]
    },
    {
      "cell_type": "code",
      "source": [
        "from sklearn.metrics import mean_absolute_error as mae\n",
        "\n",
        "mae(y_true, y_pred)"
      ],
      "metadata": {
        "colab": {
          "base_uri": "https://localhost:8080/"
        },
        "id": "jzofpZAFO2wf",
        "outputId": "512c532a-8ee4-4c02-9d9c-825602ba308c"
      },
      "execution_count": null,
      "outputs": [
        {
          "output_type": "execute_result",
          "data": {
            "text/plain": [
              "15.988577392459066"
            ]
          },
          "metadata": {},
          "execution_count": 13
        }
      ]
    },
    {
      "cell_type": "markdown",
      "source": [
        "# MSE - Mean Squared Error (Błąd Średniokwadratowy/ Średni Błąd Kwadratowy)\n",
        "\n",
        "### $$MSE = \\frac{1}{n}\\sum_{i=1}^{n}(y_{true} - y_{pred})^{2}$$"
      ],
      "metadata": {
        "id": "947tYTI3PgzW"
      }
    },
    {
      "cell_type": "code",
      "source": [
        "def mean_squared_error(y_true, y_pred):\n",
        "    return ((y_true - y_pred)**2).sum()/len(y_true)\n",
        "\n",
        "mean_squared_error(y_true, y_pred)"
      ],
      "metadata": {
        "colab": {
          "base_uri": "https://localhost:8080/"
        },
        "id": "okwTdwR2PzY3",
        "outputId": "767c053a-4456-45c0-dd34-76e9ae3a7ab6"
      },
      "execution_count": null,
      "outputs": [
        {
          "output_type": "execute_result",
          "data": {
            "text/plain": [
              "413.9622603267363"
            ]
          },
          "metadata": {},
          "execution_count": 15
        }
      ]
    },
    {
      "cell_type": "code",
      "source": [
        "from sklearn.metrics import mean_squared_error as mse\n",
        "\n",
        "mse(y_true, y_pred)"
      ],
      "metadata": {
        "colab": {
          "base_uri": "https://localhost:8080/"
        },
        "id": "lyetDLExPzhK",
        "outputId": "29196dbe-3f59-4827-faed-25f138ab587b"
      },
      "execution_count": null,
      "outputs": [
        {
          "output_type": "execute_result",
          "data": {
            "text/plain": [
              "413.9622603267363"
            ]
          },
          "metadata": {},
          "execution_count": 16
        }
      ]
    },
    {
      "cell_type": "markdown",
      "source": [
        "# RMSE - Root Mean Squared Error (Pierwastek błędu średniokwadratowego)\n",
        "### $$RMSE = \\sqrt{MSE}$$"
      ],
      "metadata": {
        "id": "4yKRmWYdQk5h"
      }
    },
    {
      "cell_type": "code",
      "source": [
        "def root_mean_squared_error(y_true, y_pred):\n",
        "    return np.sqrt(((y_true - y_pred)**2).sum()/len(y_true))\n",
        "\n",
        "root_mean_squared_error(y_true, y_pred)"
      ],
      "metadata": {
        "colab": {
          "base_uri": "https://localhost:8080/"
        },
        "id": "s43fN4unQx4j",
        "outputId": "7e231730-0243-4d77-fcbb-4a5fb3ffd77f"
      },
      "execution_count": null,
      "outputs": [
        {
          "output_type": "execute_result",
          "data": {
            "text/plain": [
              "20.346062526364562"
            ]
          },
          "metadata": {},
          "execution_count": 17
        }
      ]
    },
    {
      "cell_type": "code",
      "source": [
        "np.sqrt(mse(y_true, y_pred))"
      ],
      "metadata": {
        "colab": {
          "base_uri": "https://localhost:8080/"
        },
        "id": "23NcCeC-RIlR",
        "outputId": "5d9634fc-3be6-40f3-8d2b-1d7580bb629e"
      },
      "execution_count": null,
      "outputs": [
        {
          "output_type": "execute_result",
          "data": {
            "text/plain": [
              "20.346062526364562"
            ]
          },
          "metadata": {},
          "execution_count": 21
        }
      ]
    },
    {
      "cell_type": "markdown",
      "source": [
        "#Max Error - błąd maksymalny\n",
        "$$ME = max(|y\\_true - y\\_pred|)$$ "
      ],
      "metadata": {
        "id": "DP8zkqsQRu08"
      }
    },
    {
      "cell_type": "code",
      "source": [
        "def max_error(y_true, y_pred):\n",
        "    return abs(y_true-y_pred).max()\n",
        "\n",
        "max_error(y_true, y_pred)"
      ],
      "metadata": {
        "colab": {
          "base_uri": "https://localhost:8080/"
        },
        "id": "qrOFYdClR5TC",
        "outputId": "67a98b99-f26b-4c22-e2ec-e05bd730137e"
      },
      "execution_count": null,
      "outputs": [
        {
          "output_type": "execute_result",
          "data": {
            "text/plain": [
              "62.1681859071371"
            ]
          },
          "metadata": {},
          "execution_count": 23
        }
      ]
    },
    {
      "cell_type": "code",
      "source": [
        "def max_error(y_true, y_pred):\n",
        "    return max(abs(y_true-y_pred))\n",
        "\n",
        "max_error(y_true, y_pred)"
      ],
      "metadata": {
        "colab": {
          "base_uri": "https://localhost:8080/"
        },
        "id": "2_RVo1aSSNg3",
        "outputId": "7edd8a4e-3f47-4fb1-ed02-87552d2fd742"
      },
      "execution_count": null,
      "outputs": [
        {
          "output_type": "execute_result",
          "data": {
            "text/plain": [
              "62.1681859071371"
            ]
          },
          "metadata": {},
          "execution_count": 24
        }
      ]
    },
    {
      "cell_type": "code",
      "source": [
        "from sklearn.metrics import max_error as me\n",
        "\n",
        "me(y_true, y_pred)"
      ],
      "metadata": {
        "colab": {
          "base_uri": "https://localhost:8080/"
        },
        "id": "GE6lEaQ6SWhS",
        "outputId": "02331b1f-34cf-4063-98ee-2b52acef7e68"
      },
      "execution_count": null,
      "outputs": [
        {
          "output_type": "execute_result",
          "data": {
            "text/plain": [
              "62.1681859071371"
            ]
          },
          "metadata": {},
          "execution_count": 25
        }
      ]
    },
    {
      "cell_type": "markdown",
      "source": [
        "#R2 score - współczynnik determinacji\n",
        "### $$R2\\_score = 1 - \\frac{\\sum_{i=1}^{N}(y_{true} - y_{pred})^{2}}{\\sum_{i=1}^{N}(y_{true} - \\overline{y_{true}})^{2}}$$"
      ],
      "metadata": {
        "id": "Mqp_RJRTSmUI"
      }
    },
    {
      "cell_type": "code",
      "source": [
        "from sklearn.metrics import r2_score"
      ],
      "metadata": {
        "id": "pC_H1vvVSrlq"
      },
      "execution_count": null,
      "outputs": []
    },
    {
      "cell_type": "code",
      "source": [
        "r2_score(y_true, y_pred)"
      ],
      "metadata": {
        "colab": {
          "base_uri": "https://localhost:8080/"
        },
        "id": "Q2TQBZehSvva",
        "outputId": "03c77b09-223f-432d-b425-087b6ad58f8f"
      },
      "execution_count": null,
      "outputs": [
        {
          "output_type": "execute_result",
          "data": {
            "text/plain": [
              "-0.13884078603961614"
            ]
          },
          "metadata": {},
          "execution_count": 27
        }
      ]
    },
    {
      "cell_type": "code",
      "source": [
        "def r2_score_value(y_true, y_pred):\n",
        "    numerator = ((y_true - y_pred)**2).sum()/len(y_true)\n",
        "    denominator = ((y_true - y_true.mean())**2).sum()/len(y_true)\n",
        "    try:\n",
        "        r2 = 1-(numerator/denominator)\n",
        "    except ZeroDivisionError:\n",
        "        print('Dzielenie przez ZERO')\n",
        "    return r2"
      ],
      "metadata": {
        "id": "uDQYYcaqTFHB"
      },
      "execution_count": null,
      "outputs": []
    },
    {
      "cell_type": "code",
      "source": [
        "r2_score_value(y_true, y_pred)"
      ],
      "metadata": {
        "colab": {
          "base_uri": "https://localhost:8080/"
        },
        "id": "Z214oi25T5SZ",
        "outputId": "5f4863f4-8fa9-4316-d8da-278ce96121fc"
      },
      "execution_count": null,
      "outputs": [
        {
          "output_type": "execute_result",
          "data": {
            "text/plain": [
              "-0.13884078603961614"
            ]
          },
          "metadata": {},
          "execution_count": 31
        }
      ]
    }
  ]
}